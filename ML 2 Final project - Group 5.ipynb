{
 "cells": [
  {
   "cell_type": "code",
   "execution_count": 1,
   "id": "4887817d",
   "metadata": {},
   "outputs": [],
   "source": [
    "import pandas as pd\n",
    "import numpy as np\n",
    "import matplotlib.pyplot as plt\n",
    "import seaborn as sns"
   ]
  },
  {
   "cell_type": "code",
   "execution_count": 2,
   "id": "6844b6ca",
   "metadata": {
    "scrolled": true
   },
   "outputs": [
    {
     "data": {
      "text/html": [
       "<div>\n",
       "<style scoped>\n",
       "    .dataframe tbody tr th:only-of-type {\n",
       "        vertical-align: middle;\n",
       "    }\n",
       "\n",
       "    .dataframe tbody tr th {\n",
       "        vertical-align: top;\n",
       "    }\n",
       "\n",
       "    .dataframe thead th {\n",
       "        text-align: right;\n",
       "    }\n",
       "</style>\n",
       "<table border=\"1\" class=\"dataframe\">\n",
       "  <thead>\n",
       "    <tr style=\"text-align: right;\">\n",
       "      <th></th>\n",
       "      <th>step</th>\n",
       "      <th>type</th>\n",
       "      <th>amount</th>\n",
       "      <th>nameOrig</th>\n",
       "      <th>oldbalanceOrg</th>\n",
       "      <th>newbalanceOrig</th>\n",
       "      <th>nameDest</th>\n",
       "      <th>oldbalanceDest</th>\n",
       "      <th>newbalanceDest</th>\n",
       "      <th>isFraud</th>\n",
       "      <th>isFlaggedFraud</th>\n",
       "    </tr>\n",
       "  </thead>\n",
       "  <tbody>\n",
       "    <tr>\n",
       "      <th>0</th>\n",
       "      <td>10</td>\n",
       "      <td>CASH_OUT</td>\n",
       "      <td>51943.97</td>\n",
       "      <td>C1637626505</td>\n",
       "      <td>0.00</td>\n",
       "      <td>0.00</td>\n",
       "      <td>C303888116</td>\n",
       "      <td>382665.98</td>\n",
       "      <td>434609.95</td>\n",
       "      <td>0</td>\n",
       "      <td>0</td>\n",
       "    </tr>\n",
       "    <tr>\n",
       "      <th>1</th>\n",
       "      <td>8</td>\n",
       "      <td>PAYMENT</td>\n",
       "      <td>14851.71</td>\n",
       "      <td>C517827724</td>\n",
       "      <td>41858.00</td>\n",
       "      <td>27006.29</td>\n",
       "      <td>M2135203084</td>\n",
       "      <td>0.00</td>\n",
       "      <td>0.00</td>\n",
       "      <td>0</td>\n",
       "      <td>0</td>\n",
       "    </tr>\n",
       "    <tr>\n",
       "      <th>2</th>\n",
       "      <td>10</td>\n",
       "      <td>PAYMENT</td>\n",
       "      <td>13310.72</td>\n",
       "      <td>C887797881</td>\n",
       "      <td>936655.56</td>\n",
       "      <td>923344.84</td>\n",
       "      <td>M1386713236</td>\n",
       "      <td>0.00</td>\n",
       "      <td>0.00</td>\n",
       "      <td>0</td>\n",
       "      <td>0</td>\n",
       "    </tr>\n",
       "    <tr>\n",
       "      <th>3</th>\n",
       "      <td>8</td>\n",
       "      <td>TRANSFER</td>\n",
       "      <td>668736.87</td>\n",
       "      <td>C725736615</td>\n",
       "      <td>20318.00</td>\n",
       "      <td>0.00</td>\n",
       "      <td>C1247051677</td>\n",
       "      <td>83291.00</td>\n",
       "      <td>1681737.84</td>\n",
       "      <td>0</td>\n",
       "      <td>0</td>\n",
       "    </tr>\n",
       "    <tr>\n",
       "      <th>4</th>\n",
       "      <td>7</td>\n",
       "      <td>TRANSFER</td>\n",
       "      <td>584283.47</td>\n",
       "      <td>C108878855</td>\n",
       "      <td>698842.84</td>\n",
       "      <td>114559.37</td>\n",
       "      <td>C1373467808</td>\n",
       "      <td>65726.18</td>\n",
       "      <td>1031613.74</td>\n",
       "      <td>0</td>\n",
       "      <td>0</td>\n",
       "    </tr>\n",
       "    <tr>\n",
       "      <th>...</th>\n",
       "      <td>...</td>\n",
       "      <td>...</td>\n",
       "      <td>...</td>\n",
       "      <td>...</td>\n",
       "      <td>...</td>\n",
       "      <td>...</td>\n",
       "      <td>...</td>\n",
       "      <td>...</td>\n",
       "      <td>...</td>\n",
       "      <td>...</td>\n",
       "      <td>...</td>\n",
       "    </tr>\n",
       "    <tr>\n",
       "      <th>108208</th>\n",
       "      <td>351</td>\n",
       "      <td>TRANSFER</td>\n",
       "      <td>1552664.33</td>\n",
       "      <td>C1431338158</td>\n",
       "      <td>1552664.33</td>\n",
       "      <td>0.00</td>\n",
       "      <td>C1230205848</td>\n",
       "      <td>0.00</td>\n",
       "      <td>0.00</td>\n",
       "      <td>1</td>\n",
       "      <td>0</td>\n",
       "    </tr>\n",
       "    <tr>\n",
       "      <th>108209</th>\n",
       "      <td>1</td>\n",
       "      <td>TRANSFER</td>\n",
       "      <td>35063.63</td>\n",
       "      <td>C1364127192</td>\n",
       "      <td>35063.63</td>\n",
       "      <td>0.00</td>\n",
       "      <td>C1136419747</td>\n",
       "      <td>0.00</td>\n",
       "      <td>0.00</td>\n",
       "      <td>1</td>\n",
       "      <td>0</td>\n",
       "    </tr>\n",
       "    <tr>\n",
       "      <th>108210</th>\n",
       "      <td>8</td>\n",
       "      <td>PAYMENT</td>\n",
       "      <td>11577.90</td>\n",
       "      <td>C1983236161</td>\n",
       "      <td>525342.46</td>\n",
       "      <td>513764.56</td>\n",
       "      <td>M1667304777</td>\n",
       "      <td>0.00</td>\n",
       "      <td>0.00</td>\n",
       "      <td>0</td>\n",
       "      <td>0</td>\n",
       "    </tr>\n",
       "    <tr>\n",
       "      <th>108211</th>\n",
       "      <td>8</td>\n",
       "      <td>CASH_IN</td>\n",
       "      <td>64758.73</td>\n",
       "      <td>C474631120</td>\n",
       "      <td>51514.33</td>\n",
       "      <td>116273.06</td>\n",
       "      <td>C52620058</td>\n",
       "      <td>117989.32</td>\n",
       "      <td>53230.59</td>\n",
       "      <td>0</td>\n",
       "      <td>0</td>\n",
       "    </tr>\n",
       "    <tr>\n",
       "      <th>108212</th>\n",
       "      <td>8</td>\n",
       "      <td>CASH_OUT</td>\n",
       "      <td>163258.43</td>\n",
       "      <td>C1771429997</td>\n",
       "      <td>0.00</td>\n",
       "      <td>0.00</td>\n",
       "      <td>C767720637</td>\n",
       "      <td>247317.00</td>\n",
       "      <td>410575.43</td>\n",
       "      <td>0</td>\n",
       "      <td>0</td>\n",
       "    </tr>\n",
       "  </tbody>\n",
       "</table>\n",
       "<p>108213 rows × 11 columns</p>\n",
       "</div>"
      ],
      "text/plain": [
       "        step      type      amount     nameOrig  oldbalanceOrg  \\\n",
       "0         10  CASH_OUT    51943.97  C1637626505           0.00   \n",
       "1          8   PAYMENT    14851.71   C517827724       41858.00   \n",
       "2         10   PAYMENT    13310.72   C887797881      936655.56   \n",
       "3          8  TRANSFER   668736.87   C725736615       20318.00   \n",
       "4          7  TRANSFER   584283.47   C108878855      698842.84   \n",
       "...      ...       ...         ...          ...            ...   \n",
       "108208   351  TRANSFER  1552664.33  C1431338158     1552664.33   \n",
       "108209     1  TRANSFER    35063.63  C1364127192       35063.63   \n",
       "108210     8   PAYMENT    11577.90  C1983236161      525342.46   \n",
       "108211     8   CASH_IN    64758.73   C474631120       51514.33   \n",
       "108212     8  CASH_OUT   163258.43  C1771429997           0.00   \n",
       "\n",
       "        newbalanceOrig     nameDest  oldbalanceDest  newbalanceDest  isFraud  \\\n",
       "0                 0.00   C303888116       382665.98       434609.95        0   \n",
       "1             27006.29  M2135203084            0.00            0.00        0   \n",
       "2            923344.84  M1386713236            0.00            0.00        0   \n",
       "3                 0.00  C1247051677        83291.00      1681737.84        0   \n",
       "4            114559.37  C1373467808        65726.18      1031613.74        0   \n",
       "...                ...          ...             ...             ...      ...   \n",
       "108208            0.00  C1230205848            0.00            0.00        1   \n",
       "108209            0.00  C1136419747            0.00            0.00        1   \n",
       "108210       513764.56  M1667304777            0.00            0.00        0   \n",
       "108211       116273.06    C52620058       117989.32        53230.59        0   \n",
       "108212            0.00   C767720637       247317.00       410575.43        0   \n",
       "\n",
       "        isFlaggedFraud  \n",
       "0                    0  \n",
       "1                    0  \n",
       "2                    0  \n",
       "3                    0  \n",
       "4                    0  \n",
       "...                ...  \n",
       "108208               0  \n",
       "108209               0  \n",
       "108210               0  \n",
       "108211               0  \n",
       "108212               0  \n",
       "\n",
       "[108213 rows x 11 columns]"
      ]
     },
     "execution_count": 2,
     "metadata": {},
     "output_type": "execute_result"
    }
   ],
   "source": [
    "df=pd.read_csv('/Users/rishavmishra/Desktop/ML 2 FINAL project/sample_onlinefraud.csv')\n",
    "df"
   ]
  },
  {
   "cell_type": "code",
   "execution_count": 3,
   "id": "ac571443",
   "metadata": {},
   "outputs": [
    {
     "data": {
      "text/plain": [
       "116"
      ]
     },
     "execution_count": 3,
     "metadata": {},
     "output_type": "execute_result"
    }
   ],
   "source": [
    "#Cleaning the duplicated rows\n",
    "df[df.duplicated()].shape[0]"
   ]
  },
  {
   "cell_type": "code",
   "execution_count": 4,
   "id": "0c808bc9",
   "metadata": {
    "scrolled": true
   },
   "outputs": [
    {
     "data": {
      "text/html": [
       "<div>\n",
       "<style scoped>\n",
       "    .dataframe tbody tr th:only-of-type {\n",
       "        vertical-align: middle;\n",
       "    }\n",
       "\n",
       "    .dataframe tbody tr th {\n",
       "        vertical-align: top;\n",
       "    }\n",
       "\n",
       "    .dataframe thead th {\n",
       "        text-align: right;\n",
       "    }\n",
       "</style>\n",
       "<table border=\"1\" class=\"dataframe\">\n",
       "  <thead>\n",
       "    <tr style=\"text-align: right;\">\n",
       "      <th></th>\n",
       "      <th>step</th>\n",
       "      <th>type</th>\n",
       "      <th>amount</th>\n",
       "      <th>nameOrig</th>\n",
       "      <th>oldbalanceOrg</th>\n",
       "      <th>newbalanceOrig</th>\n",
       "      <th>nameDest</th>\n",
       "      <th>oldbalanceDest</th>\n",
       "      <th>newbalanceDest</th>\n",
       "      <th>isFraud</th>\n",
       "      <th>isFlaggedFraud</th>\n",
       "    </tr>\n",
       "  </thead>\n",
       "  <tbody>\n",
       "    <tr>\n",
       "      <th>0</th>\n",
       "      <td>10</td>\n",
       "      <td>CASH_OUT</td>\n",
       "      <td>51943.97</td>\n",
       "      <td>C1637626505</td>\n",
       "      <td>0.00</td>\n",
       "      <td>0.00</td>\n",
       "      <td>C303888116</td>\n",
       "      <td>382665.98</td>\n",
       "      <td>434609.95</td>\n",
       "      <td>0</td>\n",
       "      <td>0</td>\n",
       "    </tr>\n",
       "    <tr>\n",
       "      <th>1</th>\n",
       "      <td>8</td>\n",
       "      <td>PAYMENT</td>\n",
       "      <td>14851.71</td>\n",
       "      <td>C517827724</td>\n",
       "      <td>41858.00</td>\n",
       "      <td>27006.29</td>\n",
       "      <td>M2135203084</td>\n",
       "      <td>0.00</td>\n",
       "      <td>0.00</td>\n",
       "      <td>0</td>\n",
       "      <td>0</td>\n",
       "    </tr>\n",
       "    <tr>\n",
       "      <th>2</th>\n",
       "      <td>10</td>\n",
       "      <td>PAYMENT</td>\n",
       "      <td>13310.72</td>\n",
       "      <td>C887797881</td>\n",
       "      <td>936655.56</td>\n",
       "      <td>923344.84</td>\n",
       "      <td>M1386713236</td>\n",
       "      <td>0.00</td>\n",
       "      <td>0.00</td>\n",
       "      <td>0</td>\n",
       "      <td>0</td>\n",
       "    </tr>\n",
       "    <tr>\n",
       "      <th>3</th>\n",
       "      <td>8</td>\n",
       "      <td>TRANSFER</td>\n",
       "      <td>668736.87</td>\n",
       "      <td>C725736615</td>\n",
       "      <td>20318.00</td>\n",
       "      <td>0.00</td>\n",
       "      <td>C1247051677</td>\n",
       "      <td>83291.00</td>\n",
       "      <td>1681737.84</td>\n",
       "      <td>0</td>\n",
       "      <td>0</td>\n",
       "    </tr>\n",
       "    <tr>\n",
       "      <th>4</th>\n",
       "      <td>7</td>\n",
       "      <td>TRANSFER</td>\n",
       "      <td>584283.47</td>\n",
       "      <td>C108878855</td>\n",
       "      <td>698842.84</td>\n",
       "      <td>114559.37</td>\n",
       "      <td>C1373467808</td>\n",
       "      <td>65726.18</td>\n",
       "      <td>1031613.74</td>\n",
       "      <td>0</td>\n",
       "      <td>0</td>\n",
       "    </tr>\n",
       "    <tr>\n",
       "      <th>...</th>\n",
       "      <td>...</td>\n",
       "      <td>...</td>\n",
       "      <td>...</td>\n",
       "      <td>...</td>\n",
       "      <td>...</td>\n",
       "      <td>...</td>\n",
       "      <td>...</td>\n",
       "      <td>...</td>\n",
       "      <td>...</td>\n",
       "      <td>...</td>\n",
       "      <td>...</td>\n",
       "    </tr>\n",
       "    <tr>\n",
       "      <th>108207</th>\n",
       "      <td>8</td>\n",
       "      <td>PAYMENT</td>\n",
       "      <td>3129.77</td>\n",
       "      <td>C1311543068</td>\n",
       "      <td>320243.41</td>\n",
       "      <td>317113.64</td>\n",
       "      <td>M1613667542</td>\n",
       "      <td>0.00</td>\n",
       "      <td>0.00</td>\n",
       "      <td>0</td>\n",
       "      <td>0</td>\n",
       "    </tr>\n",
       "    <tr>\n",
       "      <th>108208</th>\n",
       "      <td>351</td>\n",
       "      <td>TRANSFER</td>\n",
       "      <td>1552664.33</td>\n",
       "      <td>C1431338158</td>\n",
       "      <td>1552664.33</td>\n",
       "      <td>0.00</td>\n",
       "      <td>C1230205848</td>\n",
       "      <td>0.00</td>\n",
       "      <td>0.00</td>\n",
       "      <td>1</td>\n",
       "      <td>0</td>\n",
       "    </tr>\n",
       "    <tr>\n",
       "      <th>108210</th>\n",
       "      <td>8</td>\n",
       "      <td>PAYMENT</td>\n",
       "      <td>11577.90</td>\n",
       "      <td>C1983236161</td>\n",
       "      <td>525342.46</td>\n",
       "      <td>513764.56</td>\n",
       "      <td>M1667304777</td>\n",
       "      <td>0.00</td>\n",
       "      <td>0.00</td>\n",
       "      <td>0</td>\n",
       "      <td>0</td>\n",
       "    </tr>\n",
       "    <tr>\n",
       "      <th>108211</th>\n",
       "      <td>8</td>\n",
       "      <td>CASH_IN</td>\n",
       "      <td>64758.73</td>\n",
       "      <td>C474631120</td>\n",
       "      <td>51514.33</td>\n",
       "      <td>116273.06</td>\n",
       "      <td>C52620058</td>\n",
       "      <td>117989.32</td>\n",
       "      <td>53230.59</td>\n",
       "      <td>0</td>\n",
       "      <td>0</td>\n",
       "    </tr>\n",
       "    <tr>\n",
       "      <th>108212</th>\n",
       "      <td>8</td>\n",
       "      <td>CASH_OUT</td>\n",
       "      <td>163258.43</td>\n",
       "      <td>C1771429997</td>\n",
       "      <td>0.00</td>\n",
       "      <td>0.00</td>\n",
       "      <td>C767720637</td>\n",
       "      <td>247317.00</td>\n",
       "      <td>410575.43</td>\n",
       "      <td>0</td>\n",
       "      <td>0</td>\n",
       "    </tr>\n",
       "  </tbody>\n",
       "</table>\n",
       "<p>108097 rows × 11 columns</p>\n",
       "</div>"
      ],
      "text/plain": [
       "        step      type      amount     nameOrig  oldbalanceOrg  \\\n",
       "0         10  CASH_OUT    51943.97  C1637626505           0.00   \n",
       "1          8   PAYMENT    14851.71   C517827724       41858.00   \n",
       "2         10   PAYMENT    13310.72   C887797881      936655.56   \n",
       "3          8  TRANSFER   668736.87   C725736615       20318.00   \n",
       "4          7  TRANSFER   584283.47   C108878855      698842.84   \n",
       "...      ...       ...         ...          ...            ...   \n",
       "108207     8   PAYMENT     3129.77  C1311543068      320243.41   \n",
       "108208   351  TRANSFER  1552664.33  C1431338158     1552664.33   \n",
       "108210     8   PAYMENT    11577.90  C1983236161      525342.46   \n",
       "108211     8   CASH_IN    64758.73   C474631120       51514.33   \n",
       "108212     8  CASH_OUT   163258.43  C1771429997           0.00   \n",
       "\n",
       "        newbalanceOrig     nameDest  oldbalanceDest  newbalanceDest  isFraud  \\\n",
       "0                 0.00   C303888116       382665.98       434609.95        0   \n",
       "1             27006.29  M2135203084            0.00            0.00        0   \n",
       "2            923344.84  M1386713236            0.00            0.00        0   \n",
       "3                 0.00  C1247051677        83291.00      1681737.84        0   \n",
       "4            114559.37  C1373467808        65726.18      1031613.74        0   \n",
       "...                ...          ...             ...             ...      ...   \n",
       "108207       317113.64  M1613667542            0.00            0.00        0   \n",
       "108208            0.00  C1230205848            0.00            0.00        1   \n",
       "108210       513764.56  M1667304777            0.00            0.00        0   \n",
       "108211       116273.06    C52620058       117989.32        53230.59        0   \n",
       "108212            0.00   C767720637       247317.00       410575.43        0   \n",
       "\n",
       "        isFlaggedFraud  \n",
       "0                    0  \n",
       "1                    0  \n",
       "2                    0  \n",
       "3                    0  \n",
       "4                    0  \n",
       "...                ...  \n",
       "108207               0  \n",
       "108208               0  \n",
       "108210               0  \n",
       "108211               0  \n",
       "108212               0  \n",
       "\n",
       "[108097 rows x 11 columns]"
      ]
     },
     "execution_count": 4,
     "metadata": {},
     "output_type": "execute_result"
    }
   ],
   "source": [
    "#Cleaning the duplicated rows\n",
    "df.drop_duplicates(inplace=True)\n",
    "df"
   ]
  },
  {
   "cell_type": "code",
   "execution_count": 5,
   "id": "498cfee0",
   "metadata": {},
   "outputs": [
    {
     "data": {
      "text/plain": [
       "type      isFraud\n",
       "CASH_IN   0          20185\n",
       "CASH_OUT  0          30659\n",
       "          1           4116\n",
       "DEBIT     0            988\n",
       "PAYMENT   0          39512\n",
       "TRANSFER  0           8540\n",
       "          1           4097\n",
       "Name: count, dtype: int64"
      ]
     },
     "execution_count": 5,
     "metadata": {},
     "output_type": "execute_result"
    }
   ],
   "source": [
    "# We can see that suspected fraud can only be found in the 'cash out' and 'Transfer' transaction type\n",
    "df.groupby('type')['isFraud'].value_counts()"
   ]
  },
  {
   "cell_type": "code",
   "execution_count": 6,
   "id": "98ae3c9f",
   "metadata": {},
   "outputs": [
    {
     "data": {
      "text/plain": [
       "<bound method NDFrame._add_numeric_operations.<locals>.sum of step              0\n",
       "type              0\n",
       "amount            0\n",
       "nameOrig          0\n",
       "oldbalanceOrg     0\n",
       "newbalanceOrig    0\n",
       "nameDest          0\n",
       "oldbalanceDest    0\n",
       "newbalanceDest    0\n",
       "isFraud           0\n",
       "isFlaggedFraud    0\n",
       "dtype: int64>"
      ]
     },
     "execution_count": 6,
     "metadata": {},
     "output_type": "execute_result"
    }
   ],
   "source": [
    "#Checking the null values\n",
    "df.isnull().sum().sum"
   ]
  },
  {
   "cell_type": "code",
   "execution_count": 7,
   "id": "1b87d011",
   "metadata": {},
   "outputs": [
    {
     "data": {
      "text/plain": [
       "<Figure size 1200x900 with 0 Axes>"
      ]
     },
     "metadata": {},
     "output_type": "display_data"
    },
    {
     "data": {
      "image/png": "[encoded data removed]",
      "text/plain": [
       "<Figure size 640x480 with 1 Axes>"
      ]
     },
     "metadata": {},
     "output_type": "display_data"
    }
   ],
   "source": [
    "# Countplot for Fraudulent Transactions by Transaction Type with Data Labels Above Bars\n",
    "plt.figure(figsize=(12, 9))\n",
    "fraud_count = df.groupby(['type', 'isFraud']).size().unstack()\n",
    "fraud_count.plot(kind='bar', stacked=True)\n",
    "\n",
    "\n",
    "plt.title('Count of Fraudulent Transactions by Transaction Type')\n",
    "plt.xlabel('Transaction Type')\n",
    "plt.xticks(rotation=45)\n",
    "plt.legend(title='Fraud', labels=['Non-Fraudulent', 'Fraudulent'], bbox_to_anchor=(1, 1))\n",
    "plt.show()"
   ]
  },
  {
   "cell_type": "markdown",
   "id": "a4cf54fa",
   "metadata": {},
   "source": [
    "As we can see there is the class imbalance problem in classification of the data, i.e., there are only 8213 0s out of the 108097 rows. so we need to do the oversampling, which will be done after few steps."
   ]
  },
  {
   "cell_type": "code",
   "execution_count": 8,
   "id": "c3ed5010",
   "metadata": {},
   "outputs": [
    {
     "data": {
      "text/html": [
       "<div>\n",
       "<style scoped>\n",
       "    .dataframe tbody tr th:only-of-type {\n",
       "        vertical-align: middle;\n",
       "    }\n",
       "\n",
       "    .dataframe tbody tr th {\n",
       "        vertical-align: top;\n",
       "    }\n",
       "\n",
       "    .dataframe thead th {\n",
       "        text-align: right;\n",
       "    }\n",
       "</style>\n",
       "<table border=\"1\" class=\"dataframe\">\n",
       "  <thead>\n",
       "    <tr style=\"text-align: right;\">\n",
       "      <th></th>\n",
       "      <th>type</th>\n",
       "      <th>amount</th>\n",
       "      <th>oldbalanceOrg</th>\n",
       "      <th>newbalanceOrig</th>\n",
       "      <th>oldbalanceDest</th>\n",
       "      <th>newbalanceDest</th>\n",
       "    </tr>\n",
       "  </thead>\n",
       "  <tbody>\n",
       "    <tr>\n",
       "      <th>0</th>\n",
       "      <td>CASH_OUT</td>\n",
       "      <td>51943.97</td>\n",
       "      <td>0.00</td>\n",
       "      <td>0.00</td>\n",
       "      <td>382665.98</td>\n",
       "      <td>434609.95</td>\n",
       "    </tr>\n",
       "    <tr>\n",
       "      <th>1</th>\n",
       "      <td>PAYMENT</td>\n",
       "      <td>14851.71</td>\n",
       "      <td>41858.00</td>\n",
       "      <td>27006.29</td>\n",
       "      <td>0.00</td>\n",
       "      <td>0.00</td>\n",
       "    </tr>\n",
       "    <tr>\n",
       "      <th>2</th>\n",
       "      <td>PAYMENT</td>\n",
       "      <td>13310.72</td>\n",
       "      <td>936655.56</td>\n",
       "      <td>923344.84</td>\n",
       "      <td>0.00</td>\n",
       "      <td>0.00</td>\n",
       "    </tr>\n",
       "    <tr>\n",
       "      <th>3</th>\n",
       "      <td>TRANSFER</td>\n",
       "      <td>668736.87</td>\n",
       "      <td>20318.00</td>\n",
       "      <td>0.00</td>\n",
       "      <td>83291.00</td>\n",
       "      <td>1681737.84</td>\n",
       "    </tr>\n",
       "    <tr>\n",
       "      <th>4</th>\n",
       "      <td>TRANSFER</td>\n",
       "      <td>584283.47</td>\n",
       "      <td>698842.84</td>\n",
       "      <td>114559.37</td>\n",
       "      <td>65726.18</td>\n",
       "      <td>1031613.74</td>\n",
       "    </tr>\n",
       "    <tr>\n",
       "      <th>...</th>\n",
       "      <td>...</td>\n",
       "      <td>...</td>\n",
       "      <td>...</td>\n",
       "      <td>...</td>\n",
       "      <td>...</td>\n",
       "      <td>...</td>\n",
       "    </tr>\n",
       "    <tr>\n",
       "      <th>108207</th>\n",
       "      <td>PAYMENT</td>\n",
       "      <td>3129.77</td>\n",
       "      <td>320243.41</td>\n",
       "      <td>317113.64</td>\n",
       "      <td>0.00</td>\n",
       "      <td>0.00</td>\n",
       "    </tr>\n",
       "    <tr>\n",
       "      <th>108208</th>\n",
       "      <td>TRANSFER</td>\n",
       "      <td>1552664.33</td>\n",
       "      <td>1552664.33</td>\n",
       "      <td>0.00</td>\n",
       "      <td>0.00</td>\n",
       "      <td>0.00</td>\n",
       "    </tr>\n",
       "    <tr>\n",
       "      <th>108210</th>\n",
       "      <td>PAYMENT</td>\n",
       "      <td>11577.90</td>\n",
       "      <td>525342.46</td>\n",
       "      <td>513764.56</td>\n",
       "      <td>0.00</td>\n",
       "      <td>0.00</td>\n",
       "    </tr>\n",
       "    <tr>\n",
       "      <th>108211</th>\n",
       "      <td>CASH_IN</td>\n",
       "      <td>64758.73</td>\n",
       "      <td>51514.33</td>\n",
       "      <td>116273.06</td>\n",
       "      <td>117989.32</td>\n",
       "      <td>53230.59</td>\n",
       "    </tr>\n",
       "    <tr>\n",
       "      <th>108212</th>\n",
       "      <td>CASH_OUT</td>\n",
       "      <td>163258.43</td>\n",
       "      <td>0.00</td>\n",
       "      <td>0.00</td>\n",
       "      <td>247317.00</td>\n",
       "      <td>410575.43</td>\n",
       "    </tr>\n",
       "  </tbody>\n",
       "</table>\n",
       "<p>108097 rows × 6 columns</p>\n",
       "</div>"
      ],
      "text/plain": [
       "            type      amount  oldbalanceOrg  newbalanceOrig  oldbalanceDest  \\\n",
       "0       CASH_OUT    51943.97           0.00            0.00       382665.98   \n",
       "1        PAYMENT    14851.71       41858.00        27006.29            0.00   \n",
       "2        PAYMENT    13310.72      936655.56       923344.84            0.00   \n",
       "3       TRANSFER   668736.87       20318.00            0.00        83291.00   \n",
       "4       TRANSFER   584283.47      698842.84       114559.37        65726.18   \n",
       "...          ...         ...            ...             ...             ...   \n",
       "108207   PAYMENT     3129.77      320243.41       317113.64            0.00   \n",
       "108208  TRANSFER  1552664.33     1552664.33            0.00            0.00   \n",
       "108210   PAYMENT    11577.90      525342.46       513764.56            0.00   \n",
       "108211   CASH_IN    64758.73       51514.33       116273.06       117989.32   \n",
       "108212  CASH_OUT   163258.43           0.00            0.00       247317.00   \n",
       "\n",
       "        newbalanceDest  \n",
       "0            434609.95  \n",
       "1                 0.00  \n",
       "2                 0.00  \n",
       "3           1681737.84  \n",
       "4           1031613.74  \n",
       "...                ...  \n",
       "108207            0.00  \n",
       "108208            0.00  \n",
       "108210            0.00  \n",
       "108211        53230.59  \n",
       "108212       410575.43  \n",
       "\n",
       "[108097 rows x 6 columns]"
      ]
     },
     "execution_count": 8,
     "metadata": {},
     "output_type": "execute_result"
    }
   ],
   "source": [
    "#Removing the irrelevant columns and creating the input dataframe\n",
    "X=df.drop(['step','nameOrig','nameDest','isFlaggedFraud','isFraud'],axis=1)\n",
    "X"
   ]
  },
  {
   "cell_type": "code",
   "execution_count": 9,
   "id": "a0f69a6e",
   "metadata": {},
   "outputs": [
    {
     "data": {
      "text/html": [
       "<div>\n",
       "<style scoped>\n",
       "    .dataframe tbody tr th:only-of-type {\n",
       "        vertical-align: middle;\n",
       "    }\n",
       "\n",
       "    .dataframe tbody tr th {\n",
       "        vertical-align: top;\n",
       "    }\n",
       "\n",
       "    .dataframe thead th {\n",
       "        text-align: right;\n",
       "    }\n",
       "</style>\n",
       "<table border=\"1\" class=\"dataframe\">\n",
       "  <thead>\n",
       "    <tr style=\"text-align: right;\">\n",
       "      <th></th>\n",
       "      <th>amount</th>\n",
       "      <th>oldbalanceOrg</th>\n",
       "      <th>newbalanceOrig</th>\n",
       "      <th>oldbalanceDest</th>\n",
       "      <th>newbalanceDest</th>\n",
       "      <th>type_CASH_OUT</th>\n",
       "      <th>type_DEBIT</th>\n",
       "      <th>type_PAYMENT</th>\n",
       "      <th>type_TRANSFER</th>\n",
       "    </tr>\n",
       "  </thead>\n",
       "  <tbody>\n",
       "    <tr>\n",
       "      <th>0</th>\n",
       "      <td>51943.97</td>\n",
       "      <td>0.00</td>\n",
       "      <td>0.00</td>\n",
       "      <td>382665.98</td>\n",
       "      <td>434609.95</td>\n",
       "      <td>1</td>\n",
       "      <td>0</td>\n",
       "      <td>0</td>\n",
       "      <td>0</td>\n",
       "    </tr>\n",
       "    <tr>\n",
       "      <th>1</th>\n",
       "      <td>14851.71</td>\n",
       "      <td>41858.00</td>\n",
       "      <td>27006.29</td>\n",
       "      <td>0.00</td>\n",
       "      <td>0.00</td>\n",
       "      <td>0</td>\n",
       "      <td>0</td>\n",
       "      <td>1</td>\n",
       "      <td>0</td>\n",
       "    </tr>\n",
       "    <tr>\n",
       "      <th>2</th>\n",
       "      <td>13310.72</td>\n",
       "      <td>936655.56</td>\n",
       "      <td>923344.84</td>\n",
       "      <td>0.00</td>\n",
       "      <td>0.00</td>\n",
       "      <td>0</td>\n",
       "      <td>0</td>\n",
       "      <td>1</td>\n",
       "      <td>0</td>\n",
       "    </tr>\n",
       "    <tr>\n",
       "      <th>3</th>\n",
       "      <td>668736.87</td>\n",
       "      <td>20318.00</td>\n",
       "      <td>0.00</td>\n",
       "      <td>83291.00</td>\n",
       "      <td>1681737.84</td>\n",
       "      <td>0</td>\n",
       "      <td>0</td>\n",
       "      <td>0</td>\n",
       "      <td>1</td>\n",
       "    </tr>\n",
       "    <tr>\n",
       "      <th>4</th>\n",
       "      <td>584283.47</td>\n",
       "      <td>698842.84</td>\n",
       "      <td>114559.37</td>\n",
       "      <td>65726.18</td>\n",
       "      <td>1031613.74</td>\n",
       "      <td>0</td>\n",
       "      <td>0</td>\n",
       "      <td>0</td>\n",
       "      <td>1</td>\n",
       "    </tr>\n",
       "    <tr>\n",
       "      <th>...</th>\n",
       "      <td>...</td>\n",
       "      <td>...</td>\n",
       "      <td>...</td>\n",
       "      <td>...</td>\n",
       "      <td>...</td>\n",
       "      <td>...</td>\n",
       "      <td>...</td>\n",
       "      <td>...</td>\n",
       "      <td>...</td>\n",
       "    </tr>\n",
       "    <tr>\n",
       "      <th>108207</th>\n",
       "      <td>3129.77</td>\n",
       "      <td>320243.41</td>\n",
       "      <td>317113.64</td>\n",
       "      <td>0.00</td>\n",
       "      <td>0.00</td>\n",
       "      <td>0</td>\n",
       "      <td>0</td>\n",
       "      <td>1</td>\n",
       "      <td>0</td>\n",
       "    </tr>\n",
       "    <tr>\n",
       "      <th>108208</th>\n",
       "      <td>1552664.33</td>\n",
       "      <td>1552664.33</td>\n",
       "      <td>0.00</td>\n",
       "      <td>0.00</td>\n",
       "      <td>0.00</td>\n",
       "      <td>0</td>\n",
       "      <td>0</td>\n",
       "      <td>0</td>\n",
       "      <td>1</td>\n",
       "    </tr>\n",
       "    <tr>\n",
       "      <th>108210</th>\n",
       "      <td>11577.90</td>\n",
       "      <td>525342.46</td>\n",
       "      <td>513764.56</td>\n",
       "      <td>0.00</td>\n",
       "      <td>0.00</td>\n",
       "      <td>0</td>\n",
       "      <td>0</td>\n",
       "      <td>1</td>\n",
       "      <td>0</td>\n",
       "    </tr>\n",
       "    <tr>\n",
       "      <th>108211</th>\n",
       "      <td>64758.73</td>\n",
       "      <td>51514.33</td>\n",
       "      <td>116273.06</td>\n",
       "      <td>117989.32</td>\n",
       "      <td>53230.59</td>\n",
       "      <td>0</td>\n",
       "      <td>0</td>\n",
       "      <td>0</td>\n",
       "      <td>0</td>\n",
       "    </tr>\n",
       "    <tr>\n",
       "      <th>108212</th>\n",
       "      <td>163258.43</td>\n",
       "      <td>0.00</td>\n",
       "      <td>0.00</td>\n",
       "      <td>247317.00</td>\n",
       "      <td>410575.43</td>\n",
       "      <td>1</td>\n",
       "      <td>0</td>\n",
       "      <td>0</td>\n",
       "      <td>0</td>\n",
       "    </tr>\n",
       "  </tbody>\n",
       "</table>\n",
       "<p>108097 rows × 9 columns</p>\n",
       "</div>"
      ],
      "text/plain": [
       "            amount  oldbalanceOrg  newbalanceOrig  oldbalanceDest  \\\n",
       "0         51943.97           0.00            0.00       382665.98   \n",
       "1         14851.71       41858.00        27006.29            0.00   \n",
       "2         13310.72      936655.56       923344.84            0.00   \n",
       "3        668736.87       20318.00            0.00        83291.00   \n",
       "4        584283.47      698842.84       114559.37        65726.18   \n",
       "...            ...            ...             ...             ...   \n",
       "108207     3129.77      320243.41       317113.64            0.00   \n",
       "108208  1552664.33     1552664.33            0.00            0.00   \n",
       "108210    11577.90      525342.46       513764.56            0.00   \n",
       "108211    64758.73       51514.33       116273.06       117989.32   \n",
       "108212   163258.43           0.00            0.00       247317.00   \n",
       "\n",
       "        newbalanceDest  type_CASH_OUT  type_DEBIT  type_PAYMENT  type_TRANSFER  \n",
       "0            434609.95              1           0             0              0  \n",
       "1                 0.00              0           0             1              0  \n",
       "2                 0.00              0           0             1              0  \n",
       "3           1681737.84              0           0             0              1  \n",
       "4           1031613.74              0           0             0              1  \n",
       "...                ...            ...         ...           ...            ...  \n",
       "108207            0.00              0           0             1              0  \n",
       "108208            0.00              0           0             0              1  \n",
       "108210            0.00              0           0             1              0  \n",
       "108211        53230.59              0           0             0              0  \n",
       "108212       410575.43              1           0             0              0  \n",
       "\n",
       "[108097 rows x 9 columns]"
      ]
     },
     "execution_count": 9,
     "metadata": {},
     "output_type": "execute_result"
    }
   ],
   "source": [
    "#Creating the dummy variable for the column 'type' and removing the dummy trap by drop_first=True\n",
    "X=pd.get_dummies(X,drop_first=True,dtype=int)\n",
    "X"
   ]
  },
  {
   "cell_type": "code",
   "execution_count": 10,
   "id": "ddf63814",
   "metadata": {},
   "outputs": [],
   "source": [
    "# Standardising the input data\n",
    "from sklearn.preprocessing import StandardScaler\n",
    "sc=StandardScaler()\n",
    "x=sc.fit_transform(X)"
   ]
  },
  {
   "cell_type": "code",
   "execution_count": 11,
   "id": "ee6c2bea",
   "metadata": {},
   "outputs": [
    {
     "data": {
      "text/html": [
       "<div>\n",
       "<style scoped>\n",
       "    .dataframe tbody tr th:only-of-type {\n",
       "        vertical-align: middle;\n",
       "    }\n",
       "\n",
       "    .dataframe tbody tr th {\n",
       "        vertical-align: top;\n",
       "    }\n",
       "\n",
       "    .dataframe thead th {\n",
       "        text-align: right;\n",
       "    }\n",
       "</style>\n",
       "<table border=\"1\" class=\"dataframe\">\n",
       "  <thead>\n",
       "    <tr style=\"text-align: right;\">\n",
       "      <th></th>\n",
       "      <th>amount</th>\n",
       "      <th>oldbalanceOrg</th>\n",
       "      <th>newbalanceOrig</th>\n",
       "      <th>oldbalanceDest</th>\n",
       "      <th>newbalanceDest</th>\n",
       "      <th>type_CASH_OUT</th>\n",
       "      <th>type_DEBIT</th>\n",
       "      <th>type_PAYMENT</th>\n",
       "      <th>type_TRANSFER</th>\n",
       "    </tr>\n",
       "  </thead>\n",
       "  <tbody>\n",
       "    <tr>\n",
       "      <th>0</th>\n",
       "      <td>-0.269534</td>\n",
       "      <td>-0.339667</td>\n",
       "      <td>-0.315259</td>\n",
       "      <td>-0.190113</td>\n",
       "      <td>-0.260949</td>\n",
       "      <td>1.452057</td>\n",
       "      <td>-0.096043</td>\n",
       "      <td>-0.759014</td>\n",
       "      <td>-0.363841</td>\n",
       "    </tr>\n",
       "    <tr>\n",
       "      <th>1</th>\n",
       "      <td>-0.315059</td>\n",
       "      <td>-0.324489</td>\n",
       "      <td>-0.305143</td>\n",
       "      <td>-0.343920</td>\n",
       "      <td>-0.410713</td>\n",
       "      <td>-0.688678</td>\n",
       "      <td>-0.096043</td>\n",
       "      <td>1.317498</td>\n",
       "      <td>-0.363841</td>\n",
       "    </tr>\n",
       "    <tr>\n",
       "      <th>2</th>\n",
       "      <td>-0.316951</td>\n",
       "      <td>-0.000036</td>\n",
       "      <td>0.030589</td>\n",
       "      <td>-0.343920</td>\n",
       "      <td>-0.410713</td>\n",
       "      <td>-0.688678</td>\n",
       "      <td>-0.096043</td>\n",
       "      <td>1.317498</td>\n",
       "      <td>-0.363841</td>\n",
       "    </tr>\n",
       "    <tr>\n",
       "      <th>3</th>\n",
       "      <td>0.487486</td>\n",
       "      <td>-0.332299</td>\n",
       "      <td>-0.315259</td>\n",
       "      <td>-0.310443</td>\n",
       "      <td>0.168804</td>\n",
       "      <td>-0.688678</td>\n",
       "      <td>-0.096043</td>\n",
       "      <td>-0.759014</td>\n",
       "      <td>2.748456</td>\n",
       "    </tr>\n",
       "    <tr>\n",
       "      <th>4</th>\n",
       "      <td>0.383832</td>\n",
       "      <td>-0.086267</td>\n",
       "      <td>-0.272350</td>\n",
       "      <td>-0.317503</td>\n",
       "      <td>-0.055225</td>\n",
       "      <td>-0.688678</td>\n",
       "      <td>-0.096043</td>\n",
       "      <td>-0.759014</td>\n",
       "      <td>2.748456</td>\n",
       "    </tr>\n",
       "    <tr>\n",
       "      <th>...</th>\n",
       "      <td>...</td>\n",
       "      <td>...</td>\n",
       "      <td>...</td>\n",
       "      <td>...</td>\n",
       "      <td>...</td>\n",
       "      <td>...</td>\n",
       "      <td>...</td>\n",
       "      <td>...</td>\n",
       "      <td>...</td>\n",
       "    </tr>\n",
       "    <tr>\n",
       "      <th>108092</th>\n",
       "      <td>-0.329446</td>\n",
       "      <td>-0.223547</td>\n",
       "      <td>-0.196481</td>\n",
       "      <td>-0.343920</td>\n",
       "      <td>-0.410713</td>\n",
       "      <td>-0.688678</td>\n",
       "      <td>-0.096043</td>\n",
       "      <td>1.317498</td>\n",
       "      <td>-0.363841</td>\n",
       "    </tr>\n",
       "    <tr>\n",
       "      <th>108093</th>\n",
       "      <td>1.572373</td>\n",
       "      <td>0.223329</td>\n",
       "      <td>-0.315259</td>\n",
       "      <td>-0.343920</td>\n",
       "      <td>-0.410713</td>\n",
       "      <td>-0.688678</td>\n",
       "      <td>-0.096043</td>\n",
       "      <td>-0.759014</td>\n",
       "      <td>2.748456</td>\n",
       "    </tr>\n",
       "    <tr>\n",
       "      <th>108094</th>\n",
       "      <td>-0.319077</td>\n",
       "      <td>-0.149178</td>\n",
       "      <td>-0.122823</td>\n",
       "      <td>-0.343920</td>\n",
       "      <td>-0.410713</td>\n",
       "      <td>-0.688678</td>\n",
       "      <td>-0.096043</td>\n",
       "      <td>1.317498</td>\n",
       "      <td>-0.363841</td>\n",
       "    </tr>\n",
       "    <tr>\n",
       "      <th>108095</th>\n",
       "      <td>-0.253806</td>\n",
       "      <td>-0.320988</td>\n",
       "      <td>-0.271708</td>\n",
       "      <td>-0.296496</td>\n",
       "      <td>-0.392370</td>\n",
       "      <td>-0.688678</td>\n",
       "      <td>-0.096043</td>\n",
       "      <td>-0.759014</td>\n",
       "      <td>-0.363841</td>\n",
       "    </tr>\n",
       "    <tr>\n",
       "      <th>108096</th>\n",
       "      <td>-0.132912</td>\n",
       "      <td>-0.339667</td>\n",
       "      <td>-0.315259</td>\n",
       "      <td>-0.244515</td>\n",
       "      <td>-0.269231</td>\n",
       "      <td>1.452057</td>\n",
       "      <td>-0.096043</td>\n",
       "      <td>-0.759014</td>\n",
       "      <td>-0.363841</td>\n",
       "    </tr>\n",
       "  </tbody>\n",
       "</table>\n",
       "<p>108097 rows × 9 columns</p>\n",
       "</div>"
      ],
      "text/plain": [
       "          amount  oldbalanceOrg  newbalanceOrig  oldbalanceDest  \\\n",
       "0      -0.269534      -0.339667       -0.315259       -0.190113   \n",
       "1      -0.315059      -0.324489       -0.305143       -0.343920   \n",
       "2      -0.316951      -0.000036        0.030589       -0.343920   \n",
       "3       0.487486      -0.332299       -0.315259       -0.310443   \n",
       "4       0.383832      -0.086267       -0.272350       -0.317503   \n",
       "...          ...            ...             ...             ...   \n",
       "108092 -0.329446      -0.223547       -0.196481       -0.343920   \n",
       "108093  1.572373       0.223329       -0.315259       -0.343920   \n",
       "108094 -0.319077      -0.149178       -0.122823       -0.343920   \n",
       "108095 -0.253806      -0.320988       -0.271708       -0.296496   \n",
       "108096 -0.132912      -0.339667       -0.315259       -0.244515   \n",
       "\n",
       "        newbalanceDest  type_CASH_OUT  type_DEBIT  type_PAYMENT  type_TRANSFER  \n",
       "0            -0.260949       1.452057   -0.096043     -0.759014      -0.363841  \n",
       "1            -0.410713      -0.688678   -0.096043      1.317498      -0.363841  \n",
       "2            -0.410713      -0.688678   -0.096043      1.317498      -0.363841  \n",
       "3             0.168804      -0.688678   -0.096043     -0.759014       2.748456  \n",
       "4            -0.055225      -0.688678   -0.096043     -0.759014       2.748456  \n",
       "...                ...            ...         ...           ...            ...  \n",
       "108092       -0.410713      -0.688678   -0.096043      1.317498      -0.363841  \n",
       "108093       -0.410713      -0.688678   -0.096043     -0.759014       2.748456  \n",
       "108094       -0.410713      -0.688678   -0.096043      1.317498      -0.363841  \n",
       "108095       -0.392370      -0.688678   -0.096043     -0.759014      -0.363841  \n",
       "108096       -0.269231       1.452057   -0.096043     -0.759014      -0.363841  \n",
       "\n",
       "[108097 rows x 9 columns]"
      ]
     },
     "execution_count": 11,
     "metadata": {},
     "output_type": "execute_result"
    }
   ],
   "source": [
    "X=pd.DataFrame(x,columns=X.columns)\n",
    "X"
   ]
  },
  {
   "cell_type": "code",
   "execution_count": 12,
   "id": "4279ad2f",
   "metadata": {},
   "outputs": [
    {
     "data": {
      "text/plain": [
       "0         0\n",
       "1         0\n",
       "2         0\n",
       "3         0\n",
       "4         0\n",
       "         ..\n",
       "108207    0\n",
       "108208    1\n",
       "108210    0\n",
       "108211    0\n",
       "108212    0\n",
       "Name: isFraud, Length: 108097, dtype: int64"
      ]
     },
     "execution_count": 12,
     "metadata": {},
     "output_type": "execute_result"
    }
   ],
   "source": [
    "# Creating the output variable\n",
    "y=df['isFraud']\n",
    "y"
   ]
  },
  {
   "cell_type": "code",
   "execution_count": 13,
   "id": "1f891710",
   "metadata": {},
   "outputs": [],
   "source": [
    "from sklearn.model_selection import train_test_split\n",
    "X_train, X_test, y_train, y_test = train_test_split(X, y, test_size=0.33, random_state=42)"
   ]
  },
  {
   "cell_type": "code",
   "execution_count": 14,
   "id": "4633eaaa",
   "metadata": {},
   "outputs": [],
   "source": [
    "# importing the neural network\n",
    "from sklearn.neural_network import MLPClassifier\n",
    "mlp=MLPClassifier(max_iter=25,random_state=1,activation='relu',solver='lbfgs')"
   ]
  },
  {
   "cell_type": "code",
   "execution_count": 15,
   "id": "fc150924",
   "metadata": {},
   "outputs": [],
   "source": [
    "# importing the Logistic Regression \n",
    "from sklearn.linear_model import LogisticRegression\n",
    "lr=LogisticRegression(solver='lbfgs',max_iter=25)"
   ]
  },
  {
   "cell_type": "code",
   "execution_count": 16,
   "id": "21d1754e",
   "metadata": {},
   "outputs": [],
   "source": [
    "# importing the support vector machine and then using hyper parameter tuning to find which kernel is most suitable\n",
    "from sklearn import svm\n",
    "from sklearn.model_selection import GridSearchCV\n",
    "gsc=GridSearchCV(svm.SVC(gamma='auto'),{'kernel':['rbf','linear']},cv=3,return_train_score=False)"
   ]
  },
  {
   "cell_type": "code",
   "execution_count": 17,
   "id": "1162d3e0",
   "metadata": {},
   "outputs": [
    {
     "data": {
      "text/html": [
       "<style>#sk-container-id-1 {color: black;background-color: white;}#sk-container-id-1 pre{padding: 0;}#sk-container-id-1 div.sk-toggleable {background-color: white;}#sk-container-id-1 label.sk-toggleable__label {cursor: pointer;display: block;width: 100%;margin-bottom: 0;padding: 0.3em;box-sizing: border-box;text-align: center;}#sk-container-id-1 label.sk-toggleable__label-arrow:before {content: \"▸\";float: left;margin-right: 0.25em;color: #696969;}#sk-container-id-1 label.sk-toggleable__label-arrow:hover:before {color: black;}#sk-container-id-1 div.sk-estimator:hover label.sk-toggleable__label-arrow:before {color: black;}#sk-container-id-1 div.sk-toggleable__content {max-height: 0;max-width: 0;overflow: hidden;text-align: left;background-color: #f0f8ff;}#sk-container-id-1 div.sk-toggleable__content pre {margin: 0.2em;color: black;border-radius: 0.25em;background-color: #f0f8ff;}#sk-container-id-1 input.sk-toggleable__control:checked~div.sk-toggleable__content {max-height: 200px;max-width: 100%;overflow: auto;}#sk-container-id-1 input.sk-toggleable__control:checked~label.sk-toggleable__label-arrow:before {content: \"▾\";}#sk-container-id-1 div.sk-estimator input.sk-toggleable__control:checked~label.sk-toggleable__label {background-color: #d4ebff;}#sk-container-id-1 div.sk-label input.sk-toggleable__control:checked~label.sk-toggleable__label {background-color: #d4ebff;}#sk-container-id-1 input.sk-hidden--visually {border: 0;clip: rect(1px 1px 1px 1px);clip: rect(1px, 1px, 1px, 1px);height: 1px;margin: -1px;overflow: hidden;padding: 0;position: absolute;width: 1px;}#sk-container-id-1 div.sk-estimator {font-family: monospace;background-color: #f0f8ff;border: 1px dotted black;border-radius: 0.25em;box-sizing: border-box;margin-bottom: 0.5em;}#sk-container-id-1 div.sk-estimator:hover {background-color: #d4ebff;}#sk-container-id-1 div.sk-parallel-item::after {content: \"\";width: 100%;border-bottom: 1px solid gray;flex-grow: 1;}#sk-container-id-1 div.sk-label:hover label.sk-toggleable__label {background-color: #d4ebff;}#sk-container-id-1 div.sk-serial::before {content: \"\";position: absolute;border-left: 1px solid gray;box-sizing: border-box;top: 0;bottom: 0;left: 50%;z-index: 0;}#sk-container-id-1 div.sk-serial {display: flex;flex-direction: column;align-items: center;background-color: white;padding-right: 0.2em;padding-left: 0.2em;position: relative;}#sk-container-id-1 div.sk-item {position: relative;z-index: 1;}#sk-container-id-1 div.sk-parallel {display: flex;align-items: stretch;justify-content: center;background-color: white;position: relative;}#sk-container-id-1 div.sk-item::before, #sk-container-id-1 div.sk-parallel-item::before {content: \"\";position: absolute;border-left: 1px solid gray;box-sizing: border-box;top: 0;bottom: 0;left: 50%;z-index: -1;}#sk-container-id-1 div.sk-parallel-item {display: flex;flex-direction: column;z-index: 1;position: relative;background-color: white;}#sk-container-id-1 div.sk-parallel-item:first-child::after {align-self: flex-end;width: 50%;}#sk-container-id-1 div.sk-parallel-item:last-child::after {align-self: flex-start;width: 50%;}#sk-container-id-1 div.sk-parallel-item:only-child::after {width: 0;}#sk-container-id-1 div.sk-dashed-wrapped {border: 1px dashed gray;margin: 0 0.4em 0.5em 0.4em;box-sizing: border-box;padding-bottom: 0.4em;background-color: white;}#sk-container-id-1 div.sk-label label {font-family: monospace;font-weight: bold;display: inline-block;line-height: 1.2em;}#sk-container-id-1 div.sk-label-container {text-align: center;}#sk-container-id-1 div.sk-container {/* jupyter's `normalize.less` sets `[hidden] { display: none; }` but bootstrap.min.css set `[hidden] { display: none !important; }` so we also need the `!important` here to be able to override the default hidden behavior on the sphinx rendered scikit-learn.org. See: https://github.com/scikit-learn/scikit-learn/issues/21755 */display: inline-block !important;position: relative;}#sk-container-id-1 div.sk-text-repr-fallback {display: none;}</style><div id=\"sk-container-id-1\" class=\"sk-top-container\"><div class=\"sk-text-repr-fallback\"><pre>GridSearchCV(cv=3, estimator=SVC(gamma=&#x27;auto&#x27;),\n",
       "             param_grid={&#x27;kernel&#x27;: [&#x27;rbf&#x27;, &#x27;linear&#x27;]})</pre><b>In a Jupyter environment, please rerun this cell to show the HTML representation or trust the notebook. <br />On GitHub, the HTML representation is unable to render, please try loading this page with nbviewer.org.</b></div><div class=\"sk-container\" hidden><div class=\"sk-item sk-dashed-wrapped\"><div class=\"sk-label-container\"><div class=\"sk-label sk-toggleable\"><input class=\"sk-toggleable__control sk-hidden--visually\" id=\"sk-estimator-id-1\" type=\"checkbox\" ><label for=\"sk-estimator-id-1\" class=\"sk-toggleable__label sk-toggleable__label-arrow\">GridSearchCV</label><div class=\"sk-toggleable__content\"><pre>GridSearchCV(cv=3, estimator=SVC(gamma=&#x27;auto&#x27;),\n",
       "             param_grid={&#x27;kernel&#x27;: [&#x27;rbf&#x27;, &#x27;linear&#x27;]})</pre></div></div></div><div class=\"sk-parallel\"><div class=\"sk-parallel-item\"><div class=\"sk-item\"><div class=\"sk-label-container\"><div class=\"sk-label sk-toggleable\"><input class=\"sk-toggleable__control sk-hidden--visually\" id=\"sk-estimator-id-2\" type=\"checkbox\" ><label for=\"sk-estimator-id-2\" class=\"sk-toggleable__label sk-toggleable__label-arrow\">estimator: SVC</label><div class=\"sk-toggleable__content\"><pre>SVC(gamma=&#x27;auto&#x27;)</pre></div></div></div><div class=\"sk-serial\"><div class=\"sk-item\"><div class=\"sk-estimator sk-toggleable\"><input class=\"sk-toggleable__control sk-hidden--visually\" id=\"sk-estimator-id-3\" type=\"checkbox\" ><label for=\"sk-estimator-id-3\" class=\"sk-toggleable__label sk-toggleable__label-arrow\">SVC</label><div class=\"sk-toggleable__content\"><pre>SVC(gamma=&#x27;auto&#x27;)</pre></div></div></div></div></div></div></div></div></div></div>"
      ],
      "text/plain": [
       "GridSearchCV(cv=3, estimator=SVC(gamma='auto'),\n",
       "             param_grid={'kernel': ['rbf', 'linear']})"
      ]
     },
     "execution_count": 17,
     "metadata": {},
     "output_type": "execute_result"
    }
   ],
   "source": [
    "gsc.fit(X,y)"
   ]
  },
  {
   "cell_type": "code",
   "execution_count": 18,
   "id": "e61d8030",
   "metadata": {},
   "outputs": [
    {
     "data": {
      "text/plain": [
       "{'kernel': 'rbf'}"
      ]
     },
     "execution_count": 18,
     "metadata": {},
     "output_type": "execute_result"
    }
   ],
   "source": [
    "gsc.best_params_"
   ]
  },
  {
   "cell_type": "code",
   "execution_count": 19,
   "id": "f4484d22",
   "metadata": {},
   "outputs": [],
   "source": [
    "# since kernel 'rbf' came out to be the best parameter during hyper parameter tuning so, we will use this\n",
    "sv=svm.SVC(gamma='auto',kernel='rbf')"
   ]
  },
  {
   "cell_type": "code",
   "execution_count": 20,
   "id": "128f3ebb",
   "metadata": {},
   "outputs": [],
   "source": [
    "# importing Random forest classifier and using 20 decision trees\n",
    "from sklearn.ensemble import RandomForestClassifier\n",
    "rf=RandomForestClassifier(n_estimators=20)"
   ]
  },
  {
   "cell_type": "code",
   "execution_count": 21,
   "id": "c16ada91",
   "metadata": {},
   "outputs": [],
   "source": [
    "from imblearn.over_sampling import SMOTE"
   ]
  },
  {
   "cell_type": "code",
   "execution_count": 22,
   "id": "01050a2b",
   "metadata": {},
   "outputs": [],
   "source": [
    "# doing the oversampling to create the decent ratio between both classifications 1 and 0 in the training set\n",
    "sm=SMOTE(random_state=12,sampling_strategy=0.6)"
   ]
  },
  {
   "cell_type": "code",
   "execution_count": 23,
   "id": "4cce5316",
   "metadata": {},
   "outputs": [],
   "source": [
    "#over sampled training set\n",
    "X_train_res,y_train_res=sm.fit_resample(X_train,y_train)"
   ]
  },
  {
   "cell_type": "code",
   "execution_count": 24,
   "id": "82c06e3a",
   "metadata": {
    "scrolled": true
   },
   "outputs": [
    {
     "data": {
      "text/html": [
       "<div>\n",
       "<style scoped>\n",
       "    .dataframe tbody tr th:only-of-type {\n",
       "        vertical-align: middle;\n",
       "    }\n",
       "\n",
       "    .dataframe tbody tr th {\n",
       "        vertical-align: top;\n",
       "    }\n",
       "\n",
       "    .dataframe thead th {\n",
       "        text-align: right;\n",
       "    }\n",
       "</style>\n",
       "<table border=\"1\" class=\"dataframe\">\n",
       "  <thead>\n",
       "    <tr style=\"text-align: right;\">\n",
       "      <th></th>\n",
       "      <th>amount</th>\n",
       "      <th>oldbalanceOrg</th>\n",
       "      <th>newbalanceOrig</th>\n",
       "      <th>oldbalanceDest</th>\n",
       "      <th>newbalanceDest</th>\n",
       "      <th>type_CASH_OUT</th>\n",
       "      <th>type_DEBIT</th>\n",
       "      <th>type_PAYMENT</th>\n",
       "      <th>type_TRANSFER</th>\n",
       "      <th>isFraud</th>\n",
       "    </tr>\n",
       "  </thead>\n",
       "  <tbody>\n",
       "    <tr>\n",
       "      <th>0</th>\n",
       "      <td>-0.318882</td>\n",
       "      <td>-0.285512</td>\n",
       "      <td>-0.263714</td>\n",
       "      <td>-0.343920</td>\n",
       "      <td>-0.410713</td>\n",
       "      <td>-0.688678</td>\n",
       "      <td>-0.096043</td>\n",
       "      <td>1.317498</td>\n",
       "      <td>-0.363841</td>\n",
       "      <td>0</td>\n",
       "    </tr>\n",
       "    <tr>\n",
       "      <th>1</th>\n",
       "      <td>-0.292170</td>\n",
       "      <td>-0.327669</td>\n",
       "      <td>-0.315259</td>\n",
       "      <td>0.839156</td>\n",
       "      <td>0.699662</td>\n",
       "      <td>-0.688678</td>\n",
       "      <td>-0.096043</td>\n",
       "      <td>-0.759014</td>\n",
       "      <td>2.748456</td>\n",
       "      <td>0</td>\n",
       "    </tr>\n",
       "    <tr>\n",
       "      <th>2</th>\n",
       "      <td>0.650438</td>\n",
       "      <td>-0.337653</td>\n",
       "      <td>-0.315259</td>\n",
       "      <td>0.162125</td>\n",
       "      <td>0.969901</td>\n",
       "      <td>-0.688678</td>\n",
       "      <td>-0.096043</td>\n",
       "      <td>-0.759014</td>\n",
       "      <td>2.748456</td>\n",
       "      <td>0</td>\n",
       "    </tr>\n",
       "    <tr>\n",
       "      <th>3</th>\n",
       "      <td>-0.165629</td>\n",
       "      <td>5.150723</td>\n",
       "      <td>5.407393</td>\n",
       "      <td>-0.166381</td>\n",
       "      <td>-0.315115</td>\n",
       "      <td>-0.688678</td>\n",
       "      <td>-0.096043</td>\n",
       "      <td>-0.759014</td>\n",
       "      <td>-0.363841</td>\n",
       "      <td>0</td>\n",
       "    </tr>\n",
       "    <tr>\n",
       "      <th>4</th>\n",
       "      <td>0.988248</td>\n",
       "      <td>0.050759</td>\n",
       "      <td>-0.315259</td>\n",
       "      <td>-0.343920</td>\n",
       "      <td>-0.410713</td>\n",
       "      <td>-0.688678</td>\n",
       "      <td>-0.096043</td>\n",
       "      <td>-0.759014</td>\n",
       "      <td>2.748456</td>\n",
       "      <td>1</td>\n",
       "    </tr>\n",
       "    <tr>\n",
       "      <th>...</th>\n",
       "      <td>...</td>\n",
       "      <td>...</td>\n",
       "      <td>...</td>\n",
       "      <td>...</td>\n",
       "      <td>...</td>\n",
       "      <td>...</td>\n",
       "      <td>...</td>\n",
       "      <td>...</td>\n",
       "      <td>...</td>\n",
       "      <td>...</td>\n",
       "    </tr>\n",
       "    <tr>\n",
       "      <th>107139</th>\n",
       "      <td>0.151974</td>\n",
       "      <td>-0.196304</td>\n",
       "      <td>-0.315259</td>\n",
       "      <td>-0.247539</td>\n",
       "      <td>-0.191839</td>\n",
       "      <td>1.452057</td>\n",
       "      <td>-0.096043</td>\n",
       "      <td>-0.759014</td>\n",
       "      <td>-0.363841</td>\n",
       "      <td>1</td>\n",
       "    </tr>\n",
       "    <tr>\n",
       "      <th>107140</th>\n",
       "      <td>-0.211939</td>\n",
       "      <td>-0.303816</td>\n",
       "      <td>-0.315259</td>\n",
       "      <td>-0.343920</td>\n",
       "      <td>-0.410713</td>\n",
       "      <td>-0.688678</td>\n",
       "      <td>-0.096043</td>\n",
       "      <td>-0.759014</td>\n",
       "      <td>2.748456</td>\n",
       "      <td>1</td>\n",
       "    </tr>\n",
       "    <tr>\n",
       "      <th>107141</th>\n",
       "      <td>11.940201</td>\n",
       "      <td>3.286328</td>\n",
       "      <td>-0.315259</td>\n",
       "      <td>-0.343920</td>\n",
       "      <td>3.035233</td>\n",
       "      <td>1.452057</td>\n",
       "      <td>-0.096043</td>\n",
       "      <td>-0.759014</td>\n",
       "      <td>-0.363841</td>\n",
       "      <td>1</td>\n",
       "    </tr>\n",
       "    <tr>\n",
       "      <th>107142</th>\n",
       "      <td>9.734739</td>\n",
       "      <td>2.634762</td>\n",
       "      <td>-0.315259</td>\n",
       "      <td>-0.307582</td>\n",
       "      <td>2.447174</td>\n",
       "      <td>1.452057</td>\n",
       "      <td>-0.096043</td>\n",
       "      <td>-0.759014</td>\n",
       "      <td>-0.363841</td>\n",
       "      <td>1</td>\n",
       "    </tr>\n",
       "    <tr>\n",
       "      <th>107143</th>\n",
       "      <td>3.152241</td>\n",
       "      <td>0.690074</td>\n",
       "      <td>-0.315259</td>\n",
       "      <td>0.750148</td>\n",
       "      <td>1.505879</td>\n",
       "      <td>1.452057</td>\n",
       "      <td>-0.096043</td>\n",
       "      <td>-0.759014</td>\n",
       "      <td>-0.363841</td>\n",
       "      <td>1</td>\n",
       "    </tr>\n",
       "  </tbody>\n",
       "</table>\n",
       "<p>107144 rows × 10 columns</p>\n",
       "</div>"
      ],
      "text/plain": [
       "           amount  oldbalanceOrg  newbalanceOrig  oldbalanceDest  \\\n",
       "0       -0.318882      -0.285512       -0.263714       -0.343920   \n",
       "1       -0.292170      -0.327669       -0.315259        0.839156   \n",
       "2        0.650438      -0.337653       -0.315259        0.162125   \n",
       "3       -0.165629       5.150723        5.407393       -0.166381   \n",
       "4        0.988248       0.050759       -0.315259       -0.343920   \n",
       "...           ...            ...             ...             ...   \n",
       "107139   0.151974      -0.196304       -0.315259       -0.247539   \n",
       "107140  -0.211939      -0.303816       -0.315259       -0.343920   \n",
       "107141  11.940201       3.286328       -0.315259       -0.343920   \n",
       "107142   9.734739       2.634762       -0.315259       -0.307582   \n",
       "107143   3.152241       0.690074       -0.315259        0.750148   \n",
       "\n",
       "        newbalanceDest  type_CASH_OUT  type_DEBIT  type_PAYMENT  \\\n",
       "0            -0.410713      -0.688678   -0.096043      1.317498   \n",
       "1             0.699662      -0.688678   -0.096043     -0.759014   \n",
       "2             0.969901      -0.688678   -0.096043     -0.759014   \n",
       "3            -0.315115      -0.688678   -0.096043     -0.759014   \n",
       "4            -0.410713      -0.688678   -0.096043     -0.759014   \n",
       "...                ...            ...         ...           ...   \n",
       "107139       -0.191839       1.452057   -0.096043     -0.759014   \n",
       "107140       -0.410713      -0.688678   -0.096043     -0.759014   \n",
       "107141        3.035233       1.452057   -0.096043     -0.759014   \n",
       "107142        2.447174       1.452057   -0.096043     -0.759014   \n",
       "107143        1.505879       1.452057   -0.096043     -0.759014   \n",
       "\n",
       "        type_TRANSFER  isFraud  \n",
       "0           -0.363841        0  \n",
       "1            2.748456        0  \n",
       "2            2.748456        0  \n",
       "3           -0.363841        0  \n",
       "4            2.748456        1  \n",
       "...               ...      ...  \n",
       "107139      -0.363841        1  \n",
       "107140       2.748456        1  \n",
       "107141      -0.363841        1  \n",
       "107142      -0.363841        1  \n",
       "107143      -0.363841        1  \n",
       "\n",
       "[107144 rows x 10 columns]"
      ]
     },
     "execution_count": 24,
     "metadata": {},
     "output_type": "execute_result"
    }
   ],
   "source": [
    "df_resampled=pd.concat([X_train_res,y_train_res], axis=1)\n",
    "df_resampled"
   ]
  },
  {
   "cell_type": "code",
   "execution_count": 25,
   "id": "3e6af499",
   "metadata": {
    "scrolled": true
   },
   "outputs": [
    {
     "data": {
      "text/plain": [
       "isFraud\n",
       "0    66965\n",
       "1    40179\n",
       "Name: count, dtype: int64"
      ]
     },
     "execution_count": 25,
     "metadata": {},
     "output_type": "execute_result"
    }
   ],
   "source": [
    "# as we can see there is 1:0.6 ratio between the both classifications i.e. 0 & 1 which seems pretty decent \n",
    "df_resampled['isFraud'].value_counts()"
   ]
  },
  {
   "cell_type": "code",
   "execution_count": 26,
   "id": "a54b66aa",
   "metadata": {},
   "outputs": [],
   "source": [
    "# using cross validation to check the score of each machine learning model and judge which one is the best\n",
    "from sklearn.model_selection import cross_val_score"
   ]
  },
  {
   "cell_type": "code",
   "execution_count": 27,
   "id": "62887928",
   "metadata": {},
   "outputs": [
    {
     "name": "stderr",
     "output_type": "stream",
     "text": [
      "/Users/rishavmishra/anaconda3/lib/python3.10/site-packages/sklearn/neural_network/_multilayer_perceptron.py:541: ConvergenceWarning: lbfgs failed to converge (status=1):\n",
      "STOP: TOTAL NO. of ITERATIONS REACHED LIMIT.\n",
      "\n",
      "Increase the number of iterations (max_iter) or scale the data as shown in:\n",
      "    https://scikit-learn.org/stable/modules/preprocessing.html\n",
      "  self.n_iter_ = _check_optimize_result(\"lbfgs\", opt_res, self.max_iter)\n",
      "/Users/rishavmishra/anaconda3/lib/python3.10/site-packages/sklearn/neural_network/_multilayer_perceptron.py:541: ConvergenceWarning: lbfgs failed to converge (status=1):\n",
      "STOP: TOTAL NO. of ITERATIONS REACHED LIMIT.\n",
      "\n",
      "Increase the number of iterations (max_iter) or scale the data as shown in:\n",
      "    https://scikit-learn.org/stable/modules/preprocessing.html\n",
      "  self.n_iter_ = _check_optimize_result(\"lbfgs\", opt_res, self.max_iter)\n",
      "/Users/rishavmishra/anaconda3/lib/python3.10/site-packages/sklearn/neural_network/_multilayer_perceptron.py:541: ConvergenceWarning: lbfgs failed to converge (status=1):\n",
      "STOP: TOTAL NO. of ITERATIONS REACHED LIMIT.\n",
      "\n",
      "Increase the number of iterations (max_iter) or scale the data as shown in:\n",
      "    https://scikit-learn.org/stable/modules/preprocessing.html\n",
      "  self.n_iter_ = _check_optimize_result(\"lbfgs\", opt_res, self.max_iter)\n",
      "/Users/rishavmishra/anaconda3/lib/python3.10/site-packages/sklearn/neural_network/_multilayer_perceptron.py:541: ConvergenceWarning: lbfgs failed to converge (status=1):\n",
      "STOP: TOTAL NO. of ITERATIONS REACHED LIMIT.\n",
      "\n",
      "Increase the number of iterations (max_iter) or scale the data as shown in:\n",
      "    https://scikit-learn.org/stable/modules/preprocessing.html\n",
      "  self.n_iter_ = _check_optimize_result(\"lbfgs\", opt_res, self.max_iter)\n",
      "/Users/rishavmishra/anaconda3/lib/python3.10/site-packages/sklearn/neural_network/_multilayer_perceptron.py:541: ConvergenceWarning: lbfgs failed to converge (status=1):\n",
      "STOP: TOTAL NO. of ITERATIONS REACHED LIMIT.\n",
      "\n",
      "Increase the number of iterations (max_iter) or scale the data as shown in:\n",
      "    https://scikit-learn.org/stable/modules/preprocessing.html\n",
      "  self.n_iter_ = _check_optimize_result(\"lbfgs\", opt_res, self.max_iter)\n"
     ]
    },
    {
     "data": {
      "text/plain": [
       "array([0.92897475, 0.92589482, 0.9234682 , 0.92001493, 0.91333769])"
      ]
     },
     "execution_count": 27,
     "metadata": {},
     "output_type": "execute_result"
    }
   ],
   "source": [
    "# using cross validation to find the score of neural network model\n",
    "mlp_score=cross_val_score(mlp,X_train_res,y_train_res,cv=5)\n",
    "mlp_score"
   ]
  },
  {
   "cell_type": "code",
   "execution_count": 28,
   "id": "be4fd7d4",
   "metadata": {},
   "outputs": [
    {
     "data": {
      "text/plain": [
       "0.9223380777235428"
      ]
     },
     "execution_count": 28,
     "metadata": {},
     "output_type": "execute_result"
    }
   ],
   "source": [
    "# The average score of the neural network model\n",
    "avg_mlp_score=np.mean(mlp_score)\n",
    "avg_mlp_score"
   ]
  },
  {
   "cell_type": "code",
   "execution_count": 29,
   "id": "4146704b",
   "metadata": {},
   "outputs": [
    {
     "name": "stderr",
     "output_type": "stream",
     "text": [
      "/Users/rishavmishra/anaconda3/lib/python3.10/site-packages/sklearn/linear_model/_logistic.py:458: ConvergenceWarning: lbfgs failed to converge (status=1):\n",
      "STOP: TOTAL NO. of ITERATIONS REACHED LIMIT.\n",
      "\n",
      "Increase the number of iterations (max_iter) or scale the data as shown in:\n",
      "    https://scikit-learn.org/stable/modules/preprocessing.html\n",
      "Please also refer to the documentation for alternative solver options:\n",
      "    https://scikit-learn.org/stable/modules/linear_model.html#logistic-regression\n",
      "  n_iter_i = _check_optimize_result(\n",
      "/Users/rishavmishra/anaconda3/lib/python3.10/site-packages/sklearn/linear_model/_logistic.py:458: ConvergenceWarning: lbfgs failed to converge (status=1):\n",
      "STOP: TOTAL NO. of ITERATIONS REACHED LIMIT.\n",
      "\n",
      "Increase the number of iterations (max_iter) or scale the data as shown in:\n",
      "    https://scikit-learn.org/stable/modules/preprocessing.html\n",
      "Please also refer to the documentation for alternative solver options:\n",
      "    https://scikit-learn.org/stable/modules/linear_model.html#logistic-regression\n",
      "  n_iter_i = _check_optimize_result(\n",
      "/Users/rishavmishra/anaconda3/lib/python3.10/site-packages/sklearn/linear_model/_logistic.py:458: ConvergenceWarning: lbfgs failed to converge (status=1):\n",
      "STOP: TOTAL NO. of ITERATIONS REACHED LIMIT.\n",
      "\n",
      "Increase the number of iterations (max_iter) or scale the data as shown in:\n",
      "    https://scikit-learn.org/stable/modules/preprocessing.html\n",
      "Please also refer to the documentation for alternative solver options:\n",
      "    https://scikit-learn.org/stable/modules/linear_model.html#logistic-regression\n",
      "  n_iter_i = _check_optimize_result(\n",
      "/Users/rishavmishra/anaconda3/lib/python3.10/site-packages/sklearn/linear_model/_logistic.py:458: ConvergenceWarning: lbfgs failed to converge (status=1):\n",
      "STOP: TOTAL NO. of ITERATIONS REACHED LIMIT.\n",
      "\n",
      "Increase the number of iterations (max_iter) or scale the data as shown in:\n",
      "    https://scikit-learn.org/stable/modules/preprocessing.html\n",
      "Please also refer to the documentation for alternative solver options:\n",
      "    https://scikit-learn.org/stable/modules/linear_model.html#logistic-regression\n",
      "  n_iter_i = _check_optimize_result(\n",
      "/Users/rishavmishra/anaconda3/lib/python3.10/site-packages/sklearn/linear_model/_logistic.py:458: ConvergenceWarning: lbfgs failed to converge (status=1):\n",
      "STOP: TOTAL NO. of ITERATIONS REACHED LIMIT.\n",
      "\n",
      "Increase the number of iterations (max_iter) or scale the data as shown in:\n",
      "    https://scikit-learn.org/stable/modules/preprocessing.html\n",
      "Please also refer to the documentation for alternative solver options:\n",
      "    https://scikit-learn.org/stable/modules/linear_model.html#logistic-regression\n",
      "  n_iter_i = _check_optimize_result(\n"
     ]
    },
    {
     "data": {
      "text/plain": [
       "array([0.92762145, 0.92860143, 0.92766811, 0.91903495, 0.92150457])"
      ]
     },
     "execution_count": 29,
     "metadata": {},
     "output_type": "execute_result"
    }
   ],
   "source": [
    "# using cross validation to find the score of logistic regression model\n",
    "lr_score=cross_val_score(lr,X_train_res,y_train_res,cv=5)\n",
    "lr_score"
   ]
  },
  {
   "cell_type": "code",
   "execution_count": 30,
   "id": "369efd24",
   "metadata": {},
   "outputs": [
    {
     "data": {
      "text/plain": [
       "0.9248861029872926"
      ]
     },
     "execution_count": 30,
     "metadata": {},
     "output_type": "execute_result"
    }
   ],
   "source": [
    "# The average score of the logistic regression model\n",
    "avg_lr_score=np.mean(lr_score)\n",
    "avg_lr_score"
   ]
  },
  {
   "cell_type": "code",
   "execution_count": 31,
   "id": "9b5876b9",
   "metadata": {},
   "outputs": [],
   "source": [
    "# using cross validation to find the score of support vector classification model\n",
    "sv_score=cross_val_score(sv,X_train_res,y_train_res,cv=5)"
   ]
  },
  {
   "cell_type": "code",
   "execution_count": 32,
   "id": "ea9e3303",
   "metadata": {},
   "outputs": [
    {
     "data": {
      "text/plain": [
       "array([0.9319147 , 0.93280134, 0.93569462, 0.92948808, 0.93321822])"
      ]
     },
     "execution_count": 32,
     "metadata": {},
     "output_type": "execute_result"
    }
   ],
   "source": [
    "sv_score"
   ]
  },
  {
   "cell_type": "code",
   "execution_count": 33,
   "id": "e718af59",
   "metadata": {},
   "outputs": [
    {
     "data": {
      "text/plain": [
       "0.9326233909022275"
      ]
     },
     "execution_count": 33,
     "metadata": {},
     "output_type": "execute_result"
    }
   ],
   "source": [
    "# The average score of the support vector classification model\n",
    "avg_sv_score=np.mean(sv_score)\n",
    "avg_sv_score"
   ]
  },
  {
   "cell_type": "code",
   "execution_count": 34,
   "id": "6332dcd1",
   "metadata": {},
   "outputs": [
    {
     "data": {
      "text/plain": [
       "array([0.99654674, 0.99738672, 0.99710672, 0.99678006, 0.99757327])"
      ]
     },
     "execution_count": 34,
     "metadata": {},
     "output_type": "execute_result"
    }
   ],
   "source": [
    "# using cross validation to find the score of random forest classification model\n",
    "rf_score=cross_val_score(rf,X_train_res,y_train_res,cv=5)\n",
    "rf_score"
   ]
  },
  {
   "cell_type": "code",
   "execution_count": 35,
   "id": "c45a6f06",
   "metadata": {},
   "outputs": [
    {
     "data": {
      "text/plain": [
       "0.9970787024431249"
      ]
     },
     "execution_count": 35,
     "metadata": {},
     "output_type": "execute_result"
    }
   ],
   "source": [
    "# The average score of the random forest classification model\n",
    "avg_rf_score=np.mean(rf_score)\n",
    "avg_rf_score"
   ]
  },
  {
   "cell_type": "markdown",
   "id": "6b9f568b",
   "metadata": {},
   "source": [
    "We can see using the cross validation method we found out that Random forest classifier is most suitable to this data in predicting the result with accuracy of 99.67%"
   ]
  },
  {
   "cell_type": "code",
   "execution_count": 36,
   "id": "7ac0499a",
   "metadata": {},
   "outputs": [
    {
     "name": "stderr",
     "output_type": "stream",
     "text": [
      "/Users/rishavmishra/anaconda3/lib/python3.10/site-packages/sklearn/neural_network/_multilayer_perceptron.py:541: ConvergenceWarning: lbfgs failed to converge (status=1):\n",
      "STOP: TOTAL NO. of ITERATIONS REACHED LIMIT.\n",
      "\n",
      "Increase the number of iterations (max_iter) or scale the data as shown in:\n",
      "    https://scikit-learn.org/stable/modules/preprocessing.html\n",
      "  self.n_iter_ = _check_optimize_result(\"lbfgs\", opt_res, self.max_iter)\n"
     ]
    },
    {
     "data": {
      "text/html": [
       "<style>#sk-container-id-2 {color: black;background-color: white;}#sk-container-id-2 pre{padding: 0;}#sk-container-id-2 div.sk-toggleable {background-color: white;}#sk-container-id-2 label.sk-toggleable__label {cursor: pointer;display: block;width: 100%;margin-bottom: 0;padding: 0.3em;box-sizing: border-box;text-align: center;}#sk-container-id-2 label.sk-toggleable__label-arrow:before {content: \"▸\";float: left;margin-right: 0.25em;color: #696969;}#sk-container-id-2 label.sk-toggleable__label-arrow:hover:before {color: black;}#sk-container-id-2 div.sk-estimator:hover label.sk-toggleable__label-arrow:before {color: black;}#sk-container-id-2 div.sk-toggleable__content {max-height: 0;max-width: 0;overflow: hidden;text-align: left;background-color: #f0f8ff;}#sk-container-id-2 div.sk-toggleable__content pre {margin: 0.2em;color: black;border-radius: 0.25em;background-color: #f0f8ff;}#sk-container-id-2 input.sk-toggleable__control:checked~div.sk-toggleable__content {max-height: 200px;max-width: 100%;overflow: auto;}#sk-container-id-2 input.sk-toggleable__control:checked~label.sk-toggleable__label-arrow:before {content: \"▾\";}#sk-container-id-2 div.sk-estimator input.sk-toggleable__control:checked~label.sk-toggleable__label {background-color: #d4ebff;}#sk-container-id-2 div.sk-label input.sk-toggleable__control:checked~label.sk-toggleable__label {background-color: #d4ebff;}#sk-container-id-2 input.sk-hidden--visually {border: 0;clip: rect(1px 1px 1px 1px);clip: rect(1px, 1px, 1px, 1px);height: 1px;margin: -1px;overflow: hidden;padding: 0;position: absolute;width: 1px;}#sk-container-id-2 div.sk-estimator {font-family: monospace;background-color: #f0f8ff;border: 1px dotted black;border-radius: 0.25em;box-sizing: border-box;margin-bottom: 0.5em;}#sk-container-id-2 div.sk-estimator:hover {background-color: #d4ebff;}#sk-container-id-2 div.sk-parallel-item::after {content: \"\";width: 100%;border-bottom: 1px solid gray;flex-grow: 1;}#sk-container-id-2 div.sk-label:hover label.sk-toggleable__label {background-color: #d4ebff;}#sk-container-id-2 div.sk-serial::before {content: \"\";position: absolute;border-left: 1px solid gray;box-sizing: border-box;top: 0;bottom: 0;left: 50%;z-index: 0;}#sk-container-id-2 div.sk-serial {display: flex;flex-direction: column;align-items: center;background-color: white;padding-right: 0.2em;padding-left: 0.2em;position: relative;}#sk-container-id-2 div.sk-item {position: relative;z-index: 1;}#sk-container-id-2 div.sk-parallel {display: flex;align-items: stretch;justify-content: center;background-color: white;position: relative;}#sk-container-id-2 div.sk-item::before, #sk-container-id-2 div.sk-parallel-item::before {content: \"\";position: absolute;border-left: 1px solid gray;box-sizing: border-box;top: 0;bottom: 0;left: 50%;z-index: -1;}#sk-container-id-2 div.sk-parallel-item {display: flex;flex-direction: column;z-index: 1;position: relative;background-color: white;}#sk-container-id-2 div.sk-parallel-item:first-child::after {align-self: flex-end;width: 50%;}#sk-container-id-2 div.sk-parallel-item:last-child::after {align-self: flex-start;width: 50%;}#sk-container-id-2 div.sk-parallel-item:only-child::after {width: 0;}#sk-container-id-2 div.sk-dashed-wrapped {border: 1px dashed gray;margin: 0 0.4em 0.5em 0.4em;box-sizing: border-box;padding-bottom: 0.4em;background-color: white;}#sk-container-id-2 div.sk-label label {font-family: monospace;font-weight: bold;display: inline-block;line-height: 1.2em;}#sk-container-id-2 div.sk-label-container {text-align: center;}#sk-container-id-2 div.sk-container {/* jupyter's `normalize.less` sets `[hidden] { display: none; }` but bootstrap.min.css set `[hidden] { display: none !important; }` so we also need the `!important` here to be able to override the default hidden behavior on the sphinx rendered scikit-learn.org. See: https://github.com/scikit-learn/scikit-learn/issues/21755 */display: inline-block !important;position: relative;}#sk-container-id-2 div.sk-text-repr-fallback {display: none;}</style><div id=\"sk-container-id-2\" class=\"sk-top-container\"><div class=\"sk-text-repr-fallback\"><pre>MLPClassifier(max_iter=25, random_state=1, solver=&#x27;lbfgs&#x27;)</pre><b>In a Jupyter environment, please rerun this cell to show the HTML representation or trust the notebook. <br />On GitHub, the HTML representation is unable to render, please try loading this page with nbviewer.org.</b></div><div class=\"sk-container\" hidden><div class=\"sk-item\"><div class=\"sk-estimator sk-toggleable\"><input class=\"sk-toggleable__control sk-hidden--visually\" id=\"sk-estimator-id-4\" type=\"checkbox\" checked><label for=\"sk-estimator-id-4\" class=\"sk-toggleable__label sk-toggleable__label-arrow\">MLPClassifier</label><div class=\"sk-toggleable__content\"><pre>MLPClassifier(max_iter=25, random_state=1, solver=&#x27;lbfgs&#x27;)</pre></div></div></div></div></div>"
      ],
      "text/plain": [
       "MLPClassifier(max_iter=25, random_state=1, solver='lbfgs')"
      ]
     },
     "execution_count": 36,
     "metadata": {},
     "output_type": "execute_result"
    }
   ],
   "source": [
    "#training the neural network model \n",
    "mlp.fit(X_train_res,y_train_res)\n"
   ]
  },
  {
   "cell_type": "code",
   "execution_count": 37,
   "id": "2c46214f",
   "metadata": {},
   "outputs": [
    {
     "name": "stderr",
     "output_type": "stream",
     "text": [
      "/Users/rishavmishra/anaconda3/lib/python3.10/site-packages/sklearn/linear_model/_logistic.py:458: ConvergenceWarning: lbfgs failed to converge (status=1):\n",
      "STOP: TOTAL NO. of ITERATIONS REACHED LIMIT.\n",
      "\n",
      "Increase the number of iterations (max_iter) or scale the data as shown in:\n",
      "    https://scikit-learn.org/stable/modules/preprocessing.html\n",
      "Please also refer to the documentation for alternative solver options:\n",
      "    https://scikit-learn.org/stable/modules/linear_model.html#logistic-regression\n",
      "  n_iter_i = _check_optimize_result(\n"
     ]
    },
    {
     "data": {
      "text/html": [
       "<style>#sk-container-id-3 {color: black;background-color: white;}#sk-container-id-3 pre{padding: 0;}#sk-container-id-3 div.sk-toggleable {background-color: white;}#sk-container-id-3 label.sk-toggleable__label {cursor: pointer;display: block;width: 100%;margin-bottom: 0;padding: 0.3em;box-sizing: border-box;text-align: center;}#sk-container-id-3 label.sk-toggleable__label-arrow:before {content: \"▸\";float: left;margin-right: 0.25em;color: #696969;}#sk-container-id-3 label.sk-toggleable__label-arrow:hover:before {color: black;}#sk-container-id-3 div.sk-estimator:hover label.sk-toggleable__label-arrow:before {color: black;}#sk-container-id-3 div.sk-toggleable__content {max-height: 0;max-width: 0;overflow: hidden;text-align: left;background-color: #f0f8ff;}#sk-container-id-3 div.sk-toggleable__content pre {margin: 0.2em;color: black;border-radius: 0.25em;background-color: #f0f8ff;}#sk-container-id-3 input.sk-toggleable__control:checked~div.sk-toggleable__content {max-height: 200px;max-width: 100%;overflow: auto;}#sk-container-id-3 input.sk-toggleable__control:checked~label.sk-toggleable__label-arrow:before {content: \"▾\";}#sk-container-id-3 div.sk-estimator input.sk-toggleable__control:checked~label.sk-toggleable__label {background-color: #d4ebff;}#sk-container-id-3 div.sk-label input.sk-toggleable__control:checked~label.sk-toggleable__label {background-color: #d4ebff;}#sk-container-id-3 input.sk-hidden--visually {border: 0;clip: rect(1px 1px 1px 1px);clip: rect(1px, 1px, 1px, 1px);height: 1px;margin: -1px;overflow: hidden;padding: 0;position: absolute;width: 1px;}#sk-container-id-3 div.sk-estimator {font-family: monospace;background-color: #f0f8ff;border: 1px dotted black;border-radius: 0.25em;box-sizing: border-box;margin-bottom: 0.5em;}#sk-container-id-3 div.sk-estimator:hover {background-color: #d4ebff;}#sk-container-id-3 div.sk-parallel-item::after {content: \"\";width: 100%;border-bottom: 1px solid gray;flex-grow: 1;}#sk-container-id-3 div.sk-label:hover label.sk-toggleable__label {background-color: #d4ebff;}#sk-container-id-3 div.sk-serial::before {content: \"\";position: absolute;border-left: 1px solid gray;box-sizing: border-box;top: 0;bottom: 0;left: 50%;z-index: 0;}#sk-container-id-3 div.sk-serial {display: flex;flex-direction: column;align-items: center;background-color: white;padding-right: 0.2em;padding-left: 0.2em;position: relative;}#sk-container-id-3 div.sk-item {position: relative;z-index: 1;}#sk-container-id-3 div.sk-parallel {display: flex;align-items: stretch;justify-content: center;background-color: white;position: relative;}#sk-container-id-3 div.sk-item::before, #sk-container-id-3 div.sk-parallel-item::before {content: \"\";position: absolute;border-left: 1px solid gray;box-sizing: border-box;top: 0;bottom: 0;left: 50%;z-index: -1;}#sk-container-id-3 div.sk-parallel-item {display: flex;flex-direction: column;z-index: 1;position: relative;background-color: white;}#sk-container-id-3 div.sk-parallel-item:first-child::after {align-self: flex-end;width: 50%;}#sk-container-id-3 div.sk-parallel-item:last-child::after {align-self: flex-start;width: 50%;}#sk-container-id-3 div.sk-parallel-item:only-child::after {width: 0;}#sk-container-id-3 div.sk-dashed-wrapped {border: 1px dashed gray;margin: 0 0.4em 0.5em 0.4em;box-sizing: border-box;padding-bottom: 0.4em;background-color: white;}#sk-container-id-3 div.sk-label label {font-family: monospace;font-weight: bold;display: inline-block;line-height: 1.2em;}#sk-container-id-3 div.sk-label-container {text-align: center;}#sk-container-id-3 div.sk-container {/* jupyter's `normalize.less` sets `[hidden] { display: none; }` but bootstrap.min.css set `[hidden] { display: none !important; }` so we also need the `!important` here to be able to override the default hidden behavior on the sphinx rendered scikit-learn.org. See: https://github.com/scikit-learn/scikit-learn/issues/21755 */display: inline-block !important;position: relative;}#sk-container-id-3 div.sk-text-repr-fallback {display: none;}</style><div id=\"sk-container-id-3\" class=\"sk-top-container\"><div class=\"sk-text-repr-fallback\"><pre>LogisticRegression(max_iter=25)</pre><b>In a Jupyter environment, please rerun this cell to show the HTML representation or trust the notebook. <br />On GitHub, the HTML representation is unable to render, please try loading this page with nbviewer.org.</b></div><div class=\"sk-container\" hidden><div class=\"sk-item\"><div class=\"sk-estimator sk-toggleable\"><input class=\"sk-toggleable__control sk-hidden--visually\" id=\"sk-estimator-id-5\" type=\"checkbox\" checked><label for=\"sk-estimator-id-5\" class=\"sk-toggleable__label sk-toggleable__label-arrow\">LogisticRegression</label><div class=\"sk-toggleable__content\"><pre>LogisticRegression(max_iter=25)</pre></div></div></div></div></div>"
      ],
      "text/plain": [
       "LogisticRegression(max_iter=25)"
      ]
     },
     "execution_count": 37,
     "metadata": {},
     "output_type": "execute_result"
    }
   ],
   "source": [
    "#training the logistic regression model\n",
    "lr.fit(X_train_res,y_train_res)"
   ]
  },
  {
   "cell_type": "code",
   "execution_count": 38,
   "id": "45845306",
   "metadata": {},
   "outputs": [
    {
     "data": {
      "text/html": [
       "<style>#sk-container-id-4 {color: black;background-color: white;}#sk-container-id-4 pre{padding: 0;}#sk-container-id-4 div.sk-toggleable {background-color: white;}#sk-container-id-4 label.sk-toggleable__label {cursor: pointer;display: block;width: 100%;margin-bottom: 0;padding: 0.3em;box-sizing: border-box;text-align: center;}#sk-container-id-4 label.sk-toggleable__label-arrow:before {content: \"▸\";float: left;margin-right: 0.25em;color: #696969;}#sk-container-id-4 label.sk-toggleable__label-arrow:hover:before {color: black;}#sk-container-id-4 div.sk-estimator:hover label.sk-toggleable__label-arrow:before {color: black;}#sk-container-id-4 div.sk-toggleable__content {max-height: 0;max-width: 0;overflow: hidden;text-align: left;background-color: #f0f8ff;}#sk-container-id-4 div.sk-toggleable__content pre {margin: 0.2em;color: black;border-radius: 0.25em;background-color: #f0f8ff;}#sk-container-id-4 input.sk-toggleable__control:checked~div.sk-toggleable__content {max-height: 200px;max-width: 100%;overflow: auto;}#sk-container-id-4 input.sk-toggleable__control:checked~label.sk-toggleable__label-arrow:before {content: \"▾\";}#sk-container-id-4 div.sk-estimator input.sk-toggleable__control:checked~label.sk-toggleable__label {background-color: #d4ebff;}#sk-container-id-4 div.sk-label input.sk-toggleable__control:checked~label.sk-toggleable__label {background-color: #d4ebff;}#sk-container-id-4 input.sk-hidden--visually {border: 0;clip: rect(1px 1px 1px 1px);clip: rect(1px, 1px, 1px, 1px);height: 1px;margin: -1px;overflow: hidden;padding: 0;position: absolute;width: 1px;}#sk-container-id-4 div.sk-estimator {font-family: monospace;background-color: #f0f8ff;border: 1px dotted black;border-radius: 0.25em;box-sizing: border-box;margin-bottom: 0.5em;}#sk-container-id-4 div.sk-estimator:hover {background-color: #d4ebff;}#sk-container-id-4 div.sk-parallel-item::after {content: \"\";width: 100%;border-bottom: 1px solid gray;flex-grow: 1;}#sk-container-id-4 div.sk-label:hover label.sk-toggleable__label {background-color: #d4ebff;}#sk-container-id-4 div.sk-serial::before {content: \"\";position: absolute;border-left: 1px solid gray;box-sizing: border-box;top: 0;bottom: 0;left: 50%;z-index: 0;}#sk-container-id-4 div.sk-serial {display: flex;flex-direction: column;align-items: center;background-color: white;padding-right: 0.2em;padding-left: 0.2em;position: relative;}#sk-container-id-4 div.sk-item {position: relative;z-index: 1;}#sk-container-id-4 div.sk-parallel {display: flex;align-items: stretch;justify-content: center;background-color: white;position: relative;}#sk-container-id-4 div.sk-item::before, #sk-container-id-4 div.sk-parallel-item::before {content: \"\";position: absolute;border-left: 1px solid gray;box-sizing: border-box;top: 0;bottom: 0;left: 50%;z-index: -1;}#sk-container-id-4 div.sk-parallel-item {display: flex;flex-direction: column;z-index: 1;position: relative;background-color: white;}#sk-container-id-4 div.sk-parallel-item:first-child::after {align-self: flex-end;width: 50%;}#sk-container-id-4 div.sk-parallel-item:last-child::after {align-self: flex-start;width: 50%;}#sk-container-id-4 div.sk-parallel-item:only-child::after {width: 0;}#sk-container-id-4 div.sk-dashed-wrapped {border: 1px dashed gray;margin: 0 0.4em 0.5em 0.4em;box-sizing: border-box;padding-bottom: 0.4em;background-color: white;}#sk-container-id-4 div.sk-label label {font-family: monospace;font-weight: bold;display: inline-block;line-height: 1.2em;}#sk-container-id-4 div.sk-label-container {text-align: center;}#sk-container-id-4 div.sk-container {/* jupyter's `normalize.less` sets `[hidden] { display: none; }` but bootstrap.min.css set `[hidden] { display: none !important; }` so we also need the `!important` here to be able to override the default hidden behavior on the sphinx rendered scikit-learn.org. See: https://github.com/scikit-learn/scikit-learn/issues/21755 */display: inline-block !important;position: relative;}#sk-container-id-4 div.sk-text-repr-fallback {display: none;}</style><div id=\"sk-container-id-4\" class=\"sk-top-container\"><div class=\"sk-text-repr-fallback\"><pre>SVC(gamma=&#x27;auto&#x27;)</pre><b>In a Jupyter environment, please rerun this cell to show the HTML representation or trust the notebook. <br />On GitHub, the HTML representation is unable to render, please try loading this page with nbviewer.org.</b></div><div class=\"sk-container\" hidden><div class=\"sk-item\"><div class=\"sk-estimator sk-toggleable\"><input class=\"sk-toggleable__control sk-hidden--visually\" id=\"sk-estimator-id-6\" type=\"checkbox\" checked><label for=\"sk-estimator-id-6\" class=\"sk-toggleable__label sk-toggleable__label-arrow\">SVC</label><div class=\"sk-toggleable__content\"><pre>SVC(gamma=&#x27;auto&#x27;)</pre></div></div></div></div></div>"
      ],
      "text/plain": [
       "SVC(gamma='auto')"
      ]
     },
     "execution_count": 38,
     "metadata": {},
     "output_type": "execute_result"
    }
   ],
   "source": [
    "#training the support vector classifier \n",
    "sv.fit(X_train_res,y_train_res)"
   ]
  },
  {
   "cell_type": "code",
   "execution_count": 39,
   "id": "8829c6e7",
   "metadata": {},
   "outputs": [
    {
     "data": {
      "text/html": [
       "<style>#sk-container-id-5 {color: black;background-color: white;}#sk-container-id-5 pre{padding: 0;}#sk-container-id-5 div.sk-toggleable {background-color: white;}#sk-container-id-5 label.sk-toggleable__label {cursor: pointer;display: block;width: 100%;margin-bottom: 0;padding: 0.3em;box-sizing: border-box;text-align: center;}#sk-container-id-5 label.sk-toggleable__label-arrow:before {content: \"▸\";float: left;margin-right: 0.25em;color: #696969;}#sk-container-id-5 label.sk-toggleable__label-arrow:hover:before {color: black;}#sk-container-id-5 div.sk-estimator:hover label.sk-toggleable__label-arrow:before {color: black;}#sk-container-id-5 div.sk-toggleable__content {max-height: 0;max-width: 0;overflow: hidden;text-align: left;background-color: #f0f8ff;}#sk-container-id-5 div.sk-toggleable__content pre {margin: 0.2em;color: black;border-radius: 0.25em;background-color: #f0f8ff;}#sk-container-id-5 input.sk-toggleable__control:checked~div.sk-toggleable__content {max-height: 200px;max-width: 100%;overflow: auto;}#sk-container-id-5 input.sk-toggleable__control:checked~label.sk-toggleable__label-arrow:before {content: \"▾\";}#sk-container-id-5 div.sk-estimator input.sk-toggleable__control:checked~label.sk-toggleable__label {background-color: #d4ebff;}#sk-container-id-5 div.sk-label input.sk-toggleable__control:checked~label.sk-toggleable__label {background-color: #d4ebff;}#sk-container-id-5 input.sk-hidden--visually {border: 0;clip: rect(1px 1px 1px 1px);clip: rect(1px, 1px, 1px, 1px);height: 1px;margin: -1px;overflow: hidden;padding: 0;position: absolute;width: 1px;}#sk-container-id-5 div.sk-estimator {font-family: monospace;background-color: #f0f8ff;border: 1px dotted black;border-radius: 0.25em;box-sizing: border-box;margin-bottom: 0.5em;}#sk-container-id-5 div.sk-estimator:hover {background-color: #d4ebff;}#sk-container-id-5 div.sk-parallel-item::after {content: \"\";width: 100%;border-bottom: 1px solid gray;flex-grow: 1;}#sk-container-id-5 div.sk-label:hover label.sk-toggleable__label {background-color: #d4ebff;}#sk-container-id-5 div.sk-serial::before {content: \"\";position: absolute;border-left: 1px solid gray;box-sizing: border-box;top: 0;bottom: 0;left: 50%;z-index: 0;}#sk-container-id-5 div.sk-serial {display: flex;flex-direction: column;align-items: center;background-color: white;padding-right: 0.2em;padding-left: 0.2em;position: relative;}#sk-container-id-5 div.sk-item {position: relative;z-index: 1;}#sk-container-id-5 div.sk-parallel {display: flex;align-items: stretch;justify-content: center;background-color: white;position: relative;}#sk-container-id-5 div.sk-item::before, #sk-container-id-5 div.sk-parallel-item::before {content: \"\";position: absolute;border-left: 1px solid gray;box-sizing: border-box;top: 0;bottom: 0;left: 50%;z-index: -1;}#sk-container-id-5 div.sk-parallel-item {display: flex;flex-direction: column;z-index: 1;position: relative;background-color: white;}#sk-container-id-5 div.sk-parallel-item:first-child::after {align-self: flex-end;width: 50%;}#sk-container-id-5 div.sk-parallel-item:last-child::after {align-self: flex-start;width: 50%;}#sk-container-id-5 div.sk-parallel-item:only-child::after {width: 0;}#sk-container-id-5 div.sk-dashed-wrapped {border: 1px dashed gray;margin: 0 0.4em 0.5em 0.4em;box-sizing: border-box;padding-bottom: 0.4em;background-color: white;}#sk-container-id-5 div.sk-label label {font-family: monospace;font-weight: bold;display: inline-block;line-height: 1.2em;}#sk-container-id-5 div.sk-label-container {text-align: center;}#sk-container-id-5 div.sk-container {/* jupyter's `normalize.less` sets `[hidden] { display: none; }` but bootstrap.min.css set `[hidden] { display: none !important; }` so we also need the `!important` here to be able to override the default hidden behavior on the sphinx rendered scikit-learn.org. See: https://github.com/scikit-learn/scikit-learn/issues/21755 */display: inline-block !important;position: relative;}#sk-container-id-5 div.sk-text-repr-fallback {display: none;}</style><div id=\"sk-container-id-5\" class=\"sk-top-container\"><div class=\"sk-text-repr-fallback\"><pre>RandomForestClassifier(n_estimators=20)</pre><b>In a Jupyter environment, please rerun this cell to show the HTML representation or trust the notebook. <br />On GitHub, the HTML representation is unable to render, please try loading this page with nbviewer.org.</b></div><div class=\"sk-container\" hidden><div class=\"sk-item\"><div class=\"sk-estimator sk-toggleable\"><input class=\"sk-toggleable__control sk-hidden--visually\" id=\"sk-estimator-id-7\" type=\"checkbox\" checked><label for=\"sk-estimator-id-7\" class=\"sk-toggleable__label sk-toggleable__label-arrow\">RandomForestClassifier</label><div class=\"sk-toggleable__content\"><pre>RandomForestClassifier(n_estimators=20)</pre></div></div></div></div></div>"
      ],
      "text/plain": [
       "RandomForestClassifier(n_estimators=20)"
      ]
     },
     "execution_count": 39,
     "metadata": {},
     "output_type": "execute_result"
    }
   ],
   "source": [
    "#training the random forest classifier\n",
    "rf.fit(X_train_res,y_train_res)"
   ]
  },
  {
   "cell_type": "code",
   "execution_count": 40,
   "id": "144c7707",
   "metadata": {},
   "outputs": [],
   "source": [
    "#predicting for the neural network model\n",
    "mlp_y_train_predict=mlp.predict(X_train_res)\n",
    "mlp_y_test_predict=mlp.predict(X_test)"
   ]
  },
  {
   "cell_type": "code",
   "execution_count": 41,
   "id": "ac0d3249",
   "metadata": {},
   "outputs": [],
   "source": [
    "#predicting for the logistic regression model\n",
    "lr_y_train_predict=lr.predict(X_train_res)\n",
    "lr_y_test_predict=lr.predict(X_test)"
   ]
  },
  {
   "cell_type": "code",
   "execution_count": 42,
   "id": "93fb9aab",
   "metadata": {},
   "outputs": [],
   "source": [
    "#predicting for the support vector classifier \n",
    "sv_y_train_predict=sv.predict(X_train_res)\n",
    "sv_y_test_predict=sv.predict(X_test)"
   ]
  },
  {
   "cell_type": "code",
   "execution_count": 43,
   "id": "14c257b4",
   "metadata": {},
   "outputs": [],
   "source": [
    "#predicting for the random forest classifier \n",
    "rf_y_train_predict=rf.predict(X_train_res)\n",
    "rf_y_test_predict=rf.predict(X_test)"
   ]
  },
  {
   "cell_type": "code",
   "execution_count": 44,
   "id": "a08540dc",
   "metadata": {
    "scrolled": true
   },
   "outputs": [
    {
     "name": "stdout",
     "output_type": "stream",
     "text": [
      "              precision    recall  f1-score   support\n",
      "\n",
      "           0       0.93      0.95      0.94     66965\n",
      "           1       0.91      0.88      0.89     40179\n",
      "\n",
      "    accuracy                           0.92    107144\n",
      "   macro avg       0.92      0.91      0.91    107144\n",
      "weighted avg       0.92      0.92      0.92    107144\n",
      "\n"
     ]
    }
   ],
   "source": [
    "# classification report for the neural network for the training set\n",
    "from sklearn.metrics import classification_report\n",
    "print(classification_report(y_train_res,mlp_y_train_predict))"
   ]
  },
  {
   "cell_type": "code",
   "execution_count": 45,
   "id": "971f7982",
   "metadata": {},
   "outputs": [
    {
     "name": "stdout",
     "output_type": "stream",
     "text": [
      "              precision    recall  f1-score   support\n",
      "\n",
      "           0       0.99      0.95      0.97     32919\n",
      "           1       0.57      0.87      0.69      2754\n",
      "\n",
      "    accuracy                           0.94     35673\n",
      "   macro avg       0.78      0.91      0.83     35673\n",
      "weighted avg       0.96      0.94      0.95     35673\n",
      "\n"
     ]
    }
   ],
   "source": [
    "# classification report for the neural network for the test set\n",
    "print(classification_report(y_test,mlp_y_test_predict))"
   ]
  },
  {
   "cell_type": "code",
   "execution_count": 46,
   "id": "01efa993",
   "metadata": {},
   "outputs": [
    {
     "name": "stdout",
     "output_type": "stream",
     "text": [
      "              precision    recall  f1-score   support\n",
      "\n",
      "           0       0.93      0.95      0.94     66965\n",
      "           1       0.91      0.88      0.90     40179\n",
      "\n",
      "    accuracy                           0.92    107144\n",
      "   macro avg       0.92      0.92      0.92    107144\n",
      "weighted avg       0.92      0.92      0.92    107144\n",
      "\n"
     ]
    }
   ],
   "source": [
    "# classification report for the logistic regression for the training set\n",
    "print(classification_report(y_train_res,lr_y_train_predict))"
   ]
  },
  {
   "cell_type": "code",
   "execution_count": 47,
   "id": "02a54c48",
   "metadata": {},
   "outputs": [
    {
     "name": "stdout",
     "output_type": "stream",
     "text": [
      "              precision    recall  f1-score   support\n",
      "\n",
      "           0       0.99      0.95      0.97     32919\n",
      "           1       0.59      0.88      0.71      2754\n",
      "\n",
      "    accuracy                           0.94     35673\n",
      "   macro avg       0.79      0.91      0.84     35673\n",
      "weighted avg       0.96      0.94      0.95     35673\n",
      "\n"
     ]
    }
   ],
   "source": [
    "# classification report for the logistic regression for the test set\n",
    "print(classification_report(y_test,lr_y_test_predict))"
   ]
  },
  {
   "cell_type": "code",
   "execution_count": 48,
   "id": "acd9c7c2",
   "metadata": {},
   "outputs": [
    {
     "name": "stdout",
     "output_type": "stream",
     "text": [
      "              precision    recall  f1-score   support\n",
      "\n",
      "           0       0.92      0.98      0.95     66965\n",
      "           1       0.97      0.86      0.91     40179\n",
      "\n",
      "    accuracy                           0.94    107144\n",
      "   macro avg       0.94      0.92      0.93    107144\n",
      "weighted avg       0.94      0.94      0.94    107144\n",
      "\n"
     ]
    }
   ],
   "source": [
    "# classification report for the support vector for the training set\n",
    "print(classification_report(y_train_res,sv_y_train_predict))"
   ]
  },
  {
   "cell_type": "code",
   "execution_count": 49,
   "id": "796edc49",
   "metadata": {},
   "outputs": [
    {
     "name": "stdout",
     "output_type": "stream",
     "text": [
      "              precision    recall  f1-score   support\n",
      "\n",
      "           0       0.99      0.98      0.98     32919\n",
      "           1       0.80      0.85      0.82      2754\n",
      "\n",
      "    accuracy                           0.97     35673\n",
      "   macro avg       0.90      0.91      0.90     35673\n",
      "weighted avg       0.97      0.97      0.97     35673\n",
      "\n"
     ]
    }
   ],
   "source": [
    "# classification report for the support vector for the test set\n",
    "print(classification_report(y_test,sv_y_test_predict))"
   ]
  },
  {
   "cell_type": "code",
   "execution_count": 50,
   "id": "8e02cf6f",
   "metadata": {},
   "outputs": [
    {
     "name": "stdout",
     "output_type": "stream",
     "text": [
      "              precision    recall  f1-score   support\n",
      "\n",
      "           0       1.00      1.00      1.00     66965\n",
      "           1       1.00      1.00      1.00     40179\n",
      "\n",
      "    accuracy                           1.00    107144\n",
      "   macro avg       1.00      1.00      1.00    107144\n",
      "weighted avg       1.00      1.00      1.00    107144\n",
      "\n"
     ]
    }
   ],
   "source": [
    "# classification report for the random forest classifier for the training set\n",
    "print(classification_report(y_train_res,rf_y_train_predict))"
   ]
  },
  {
   "cell_type": "code",
   "execution_count": 51,
   "id": "e418567f",
   "metadata": {},
   "outputs": [
    {
     "name": "stdout",
     "output_type": "stream",
     "text": [
      "              precision    recall  f1-score   support\n",
      "\n",
      "           0       1.00      1.00      1.00     32919\n",
      "           1       0.97      0.99      0.98      2754\n",
      "\n",
      "    accuracy                           1.00     35673\n",
      "   macro avg       0.98      0.99      0.99     35673\n",
      "weighted avg       1.00      1.00      1.00     35673\n",
      "\n"
     ]
    }
   ],
   "source": [
    "# classification report for the random forest classifier for the test set\n",
    "print(classification_report(y_test,rf_y_test_predict))"
   ]
  },
  {
   "cell_type": "markdown",
   "id": "6cf02ecb",
   "metadata": {},
   "source": [
    "as we can see from the above the random forest classifier is most sutitable for the data, which predicts with highest accuracy out of all model."
   ]
  },
  {
   "cell_type": "code",
   "execution_count": null,
   "id": "f51790a1",
   "metadata": {},
   "outputs": [],
   "source": []
  }
 ],
 "metadata": {
  "kernelspec": {
   "display_name": "Python 3 (ipykernel)",
   "language": "python",
   "name": "python3"
  },
  "language_info": {
   "codemirror_mode": {
    "name": "ipython",
    "version": 3
   },
   "file_extension": ".py",
   "mimetype": "text/x-python",
   "name": "python",
   "nbconvert_exporter": "python",
   "pygments_lexer": "ipython3",
   "version": "3.9.7"
  }
 },
 "nbformat": 4,
 "nbformat_minor": 5
}
